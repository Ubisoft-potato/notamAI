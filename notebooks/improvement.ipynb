{
 "cells": [
  {
   "cell_type": "markdown",
   "source": [
    "# Speed Improvements Research"
   ],
   "metadata": {
    "collapsed": false
   }
  },
  {
   "cell_type": "code",
   "execution_count": 3,
   "outputs": [
    {
     "data": {
      "text/plain": "True"
     },
     "execution_count": 3,
     "metadata": {},
     "output_type": "execute_result"
    }
   ],
   "source": [
    "import os\n",
    "import sys\n",
    "\n",
    "import dotenv\n",
    "\n",
    "module_path = os.path.abspath(os.path.join('..'))\n",
    "if module_path not in sys.path:\n",
    "    sys.path.append(module_path)\n",
    "from app import *\n",
    "from persist.mysql import *\n",
    "\n",
    "dotenv.load_dotenv(\"../.env\")"
   ],
   "metadata": {
    "collapsed": false,
    "ExecuteTime": {
     "end_time": "2023-05-18T09:46:37.857586Z",
     "start_time": "2023-05-18T09:46:37.826291Z"
    }
   }
  },
  {
   "cell_type": "code",
   "execution_count": 4,
   "outputs": [
    {
     "name": "stdout",
     "output_type": "stream",
     "text": [
      "2023-05-18 17:46:41,254 INFO sqlalchemy.engine.Engine SELECT DATABASE()\n"
     ]
    },
    {
     "name": "stderr",
     "output_type": "stream",
     "text": [
      "INFO:sqlalchemy.engine.Engine:SELECT DATABASE()\n"
     ]
    },
    {
     "name": "stdout",
     "output_type": "stream",
     "text": [
      "2023-05-18 17:46:41,255 INFO sqlalchemy.engine.Engine [raw sql] {}\n"
     ]
    },
    {
     "name": "stderr",
     "output_type": "stream",
     "text": [
      "INFO:sqlalchemy.engine.Engine:[raw sql] {}\n"
     ]
    },
    {
     "name": "stdout",
     "output_type": "stream",
     "text": [
      "2023-05-18 17:46:41,988 INFO sqlalchemy.engine.Engine SELECT @@sql_mode\n"
     ]
    },
    {
     "name": "stderr",
     "output_type": "stream",
     "text": [
      "INFO:sqlalchemy.engine.Engine:SELECT @@sql_mode\n"
     ]
    },
    {
     "name": "stdout",
     "output_type": "stream",
     "text": [
      "2023-05-18 17:46:41,989 INFO sqlalchemy.engine.Engine [raw sql] {}\n"
     ]
    },
    {
     "name": "stderr",
     "output_type": "stream",
     "text": [
      "INFO:sqlalchemy.engine.Engine:[raw sql] {}\n"
     ]
    },
    {
     "name": "stdout",
     "output_type": "stream",
     "text": [
      "2023-05-18 17:46:42,193 INFO sqlalchemy.engine.Engine SELECT @@lower_case_table_names\n"
     ]
    },
    {
     "name": "stderr",
     "output_type": "stream",
     "text": [
      "INFO:sqlalchemy.engine.Engine:SELECT @@lower_case_table_names\n"
     ]
    },
    {
     "name": "stdout",
     "output_type": "stream",
     "text": [
      "2023-05-18 17:46:42,194 INFO sqlalchemy.engine.Engine [raw sql] {}\n"
     ]
    },
    {
     "name": "stderr",
     "output_type": "stream",
     "text": [
      "INFO:sqlalchemy.engine.Engine:[raw sql] {}\n"
     ]
    },
    {
     "name": "stdout",
     "output_type": "stream",
     "text": [
      "2023-05-18 17:46:42,594 INFO sqlalchemy.engine.Engine BEGIN (implicit)\n"
     ]
    },
    {
     "name": "stderr",
     "output_type": "stream",
     "text": [
      "INFO:sqlalchemy.engine.Engine:BEGIN (implicit)\n"
     ]
    },
    {
     "name": "stdout",
     "output_type": "stream",
     "text": [
      "2023-05-18 17:46:42,597 INFO sqlalchemy.engine.Engine DESCRIBE `notam_ai`.`notam`\n"
     ]
    },
    {
     "name": "stderr",
     "output_type": "stream",
     "text": [
      "INFO:sqlalchemy.engine.Engine:DESCRIBE `notam_ai`.`notam`\n"
     ]
    },
    {
     "name": "stdout",
     "output_type": "stream",
     "text": [
      "2023-05-18 17:46:42,600 INFO sqlalchemy.engine.Engine [raw sql] {}\n"
     ]
    },
    {
     "name": "stderr",
     "output_type": "stream",
     "text": [
      "INFO:sqlalchemy.engine.Engine:[raw sql] {}\n"
     ]
    },
    {
     "name": "stdout",
     "output_type": "stream",
     "text": [
      "2023-05-18 17:46:42,869 INFO sqlalchemy.engine.Engine DESCRIBE `notam_ai`.`notam_tag`\n"
     ]
    },
    {
     "name": "stderr",
     "output_type": "stream",
     "text": [
      "INFO:sqlalchemy.engine.Engine:DESCRIBE `notam_ai`.`notam_tag`\n"
     ]
    },
    {
     "name": "stdout",
     "output_type": "stream",
     "text": [
      "2023-05-18 17:46:42,871 INFO sqlalchemy.engine.Engine [raw sql] {}\n"
     ]
    },
    {
     "name": "stderr",
     "output_type": "stream",
     "text": [
      "INFO:sqlalchemy.engine.Engine:[raw sql] {}\n"
     ]
    },
    {
     "name": "stdout",
     "output_type": "stream",
     "text": [
      "2023-05-18 17:46:43,176 INFO sqlalchemy.engine.Engine COMMIT\n"
     ]
    },
    {
     "name": "stderr",
     "output_type": "stream",
     "text": [
      "INFO:sqlalchemy.engine.Engine:COMMIT\n"
     ]
    }
   ],
   "source": [
    "engine = MySQLEngine()"
   ],
   "metadata": {
    "collapsed": false,
    "ExecuteTime": {
     "end_time": "2023-05-18T09:46:43.583226Z",
     "start_time": "2023-05-18T09:46:38.669141Z"
    }
   }
  },
  {
   "cell_type": "code",
   "execution_count": 5,
   "outputs": [
    {
     "name": "stdout",
     "output_type": "stream",
     "text": [
      "2023-05-18 17:49:21,743 INFO sqlalchemy.engine.Engine BEGIN (implicit)\n"
     ]
    },
    {
     "name": "stderr",
     "output_type": "stream",
     "text": [
      "INFO:sqlalchemy.engine.Engine:BEGIN (implicit)\n"
     ]
    },
    {
     "name": "stdout",
     "output_type": "stream",
     "text": [
      "2023-05-18 17:49:21,749 INFO sqlalchemy.engine.Engine SELECT notam_tag.id AS notam_tag_id, notam_tag.level AS notam_tag_level, notam_tag.tag AS notam_tag_tag, notam_tag.description AS notam_tag_description, notam_tag.class_name AS notam_tag_class_name \n",
      "FROM notam_tag\n"
     ]
    },
    {
     "name": "stderr",
     "output_type": "stream",
     "text": [
      "INFO:sqlalchemy.engine.Engine:SELECT notam_tag.id AS notam_tag_id, notam_tag.level AS notam_tag_level, notam_tag.tag AS notam_tag_tag, notam_tag.description AS notam_tag_description, notam_tag.class_name AS notam_tag_class_name \n",
      "FROM notam_tag\n"
     ]
    },
    {
     "name": "stdout",
     "output_type": "stream",
     "text": [
      "2023-05-18 17:49:21,752 INFO sqlalchemy.engine.Engine [generated in 0.00325s] {}\n"
     ]
    },
    {
     "name": "stderr",
     "output_type": "stream",
     "text": [
      "INFO:sqlalchemy.engine.Engine:[generated in 0.00325s] {}\n"
     ]
    },
    {
     "name": "stdout",
     "output_type": "stream",
     "text": [
      "2023-05-18 17:49:22,111 INFO sqlalchemy.engine.Engine ROLLBACK\n"
     ]
    },
    {
     "name": "stderr",
     "output_type": "stream",
     "text": [
      "INFO:sqlalchemy.engine.Engine:ROLLBACK\n"
     ]
    },
    {
     "name": "stdout",
     "output_type": "stream",
     "text": [
      "C1 *ATC status/hours* ATC operating hours, ATC Strike, ATC failure (ATC Zero). Including FIS/AFIS\n",
      "C2 *ATC procedure* TWR/APP/ACC change of procedure, lost comms procedure, contingency, emergency, DCL departure clearance\n",
      "C3 *ATC flow and delay* Flow control, enroute delays, expect holding\n",
      "C4 *Radio* HF, VHF, CPDLC, Satcom, ATIS - u/s, freq changes etc. KHZ, MHZ.\n",
      "C5 *Radar & ADS* Radar (PSR, MSSR, SMR, PAR, TAR), ADS (ADS-B, ADS-C) & MLAT\n",
      "C6 *Met* Met service hours, VOLMET, Met Equipment, Met Strikes\n",
      "P1 *Airport status/hours* Airport Closed, Airport operating hours, AD AP not available\n",
      "P2 *Airport restriction* Not available as alternate, airport slots, PPR required, max aircraft weight, etc.\n",
      "P3 *Fire & Rescue* RFF Category change, Rescue equipment\n",
      "P4 *Fuel* All fuel related NOTAMs, JET, JETA1, Avgas, Hydrants, Tankering\n",
      "P5 *Apron & Parking* Apron, Stands, Gates, Followme, Apron lighting, docking, guidance, limited parking\n",
      "P6 *Airport Facilities* Equipment (GSE, Rwy/Twy equip, WDI etc.), Facilities Pax processing, Airport staff strike.\n",
      "P7 *Airport Procedure* Manoeuvring, Handling, Deboarding, APU usage etc. NABT and noise curfew\n",
      "P8 *WIP & Construction* Work in Progress, WIP, Construction, Building works, digging, men and equipment\n",
      "A1 *Approach not available* Instrument approach not available, suspended eg. ILS, VOR/DME approach, RNP approach, LPV.\n",
      "A2 *Approach degraded* Some part of ILS not working, no cirlcing, minima not available\n",
      "A3 *Approach change* Chart change, Missed approach, RVR minina\n",
      "R1 *Runway closed* Runway Closed/Hours\n",
      "R2 *Runway length* TODA, TORA, ASDA, LDA changed, Displaced THR, CWY, Width change.\n",
      "R3 *Runway strength* Runway PCN change, weight restriction.\n",
      "R4 *Runway lights* Including ALS/Approach lights, Stopbars, PAPI, VASI\n",
      "R5 *Runway condition* Poor suface, potholes, ungrooved, FOD, contamination (sand, ash), RWYCC\n",
      "R6 *Runway note* Eg. Runway for Arrivals/Departures only, any other minor changes, runway reopened. Runway markings go here too, signs changed, missing, obscured. Building turbulence (Windshear)\n",
      "T1 *Taxiway closed* TWY closed, All taxiway closures.\n",
      "T2 *Taxiway restriction* Taxiway limited to specific aircraft weight/MTOW, entry points, one-way taxiways\n",
      "T3 *Taxiway lights* TWY taxiway Lights\n",
      "T4 *Taxiway condition* Poor surface, potholes\n",
      "T5 *Taxiway note* Taxiway Signs, markings, New named, new taxiway, re-opened. \n",
      "N1 *Navaid status* Navaids like VOR, NDB, TACAN. U/S, downgraded.\n",
      "N2 *Arrival* STAR (Standard Instrument Arrival), any changes to arrival\n",
      "N3 *Departure* SID, SID not avbl. change, any changes to departures\n",
      "N4 *GPS* GPS outages, GPS jamming, RAIM, GNSS, EGNOS, WAAS\n",
      "S1 *Route closed* Airway, ATS Route closed\n",
      "S2 *Route restriction* Airway, ATS Route Open but some restriction\n",
      "S3 *Route changed* Change to ATS Route, Airway definition\n",
      "S4 *Special Use Airspace* SUA's - Danger, Prohibited, Restricted, TRA\n",
      "S5 *Special Routes* Conditional routes. CDR open/closed. CDR1, CDR2, CDR3. Track Systems: Prefered routing, flight level allocation scheme (FLAS), User Prefered Routings (UPR), AUSOTS, Pacific OTS, NAR, NAT Tracks\n",
      "S6 *Airspace structure* Change to specific area, eg. CTR, TMA, FIR, coordinates\n",
      "H1 *Aircraft activity* Air Display, Aerobatics, Balloon or Kite, Exercises, Air Refuelling, Glider, Paraglider, Hang Glider, Banner towing, Mass Movement of aircraft, Parachuting (PJE), Unmanned aircraft, Formation flight, Aerial Survey, Model Flying\n",
      "H2 *Explosives* Fireworks, Blasting, Demolition of explosives, Burning gas\n",
      "H3 *Missile, Gun or Rocket Firing* Military exercises involving any firing activity\n",
      "H4 *Obstacle - New* OBST Newly erected Obstacle, Crane, Wind Farm, Turbines, LIT OBST\n",
      "H5 *Obstacle - Light out* OBST Lights not working u/s Obstacle, Crane, Wind Farm, Turbines\n",
      "H6 *Wildlife* Birds, animals\n",
      "L1 *Trigger Notam* Trigger Notam pointing to AIRAC change, AIC Sup, etc.\n",
      "L2 *Checklist NOTAM* Q-KKKK/Checklist of valid NOTAMs\n",
      "L3 *AIP Change* Change to AIP. Use also for AIC related NOTAM\n",
      "L4 *AIP Chart Change* Small chart change ie not AIP, including enroute charts.\n",
      "L5 *Flight Planning* Flight planning requirements, Field 18 of FPL\n",
      "L6 *State Rule* National notices, Covid rules, Turkey-Greece notams\n",
      "L7 *Security warnings* Risk warnings, Conflict Zones, Security related NOTAM\n",
      "\n"
     ]
    }
   ],
   "source": [
    "notam_llm_chat = NOTAMLLMChat()\n",
    "notam_tags = get_list_of_tags(engine.get_engine())\n",
    "print(notam_tags)"
   ],
   "metadata": {
    "collapsed": false,
    "ExecuteTime": {
     "end_time": "2023-05-18T09:49:22.625126Z",
     "start_time": "2023-05-18T09:49:21.480182Z"
    }
   }
  },
  {
   "cell_type": "code",
   "execution_count": 6,
   "outputs": [
    {
     "name": "stdout",
     "output_type": "stream",
     "text": [
      "2023-05-18 17:49:30,609 INFO sqlalchemy.engine.Engine BEGIN (implicit)\n"
     ]
    },
    {
     "name": "stderr",
     "output_type": "stream",
     "text": [
      "INFO:sqlalchemy.engine.Engine:BEGIN (implicit)\n"
     ]
    },
    {
     "name": "stdout",
     "output_type": "stream",
     "text": [
      "2023-05-18 17:49:30,641 INFO sqlalchemy.engine.Engine SELECT notam.id AS notam_id_1, notam.notam_id AS notam_notam_id, notam.message AS notam_message, notam.location AS notam_location, notam.tag AS notam_tag, notam.summary AS notam_summary, notam.create_time AS notam_create_time, notam.update_time AS notam_update_time \n",
      "FROM notam \n",
      "WHERE notam.notam_id IN (%(notam_id_1_1)s)\n"
     ]
    },
    {
     "name": "stderr",
     "output_type": "stream",
     "text": [
      "INFO:sqlalchemy.engine.Engine:SELECT notam.id AS notam_id_1, notam.notam_id AS notam_notam_id, notam.message AS notam_message, notam.location AS notam_location, notam.tag AS notam_tag, notam.summary AS notam_summary, notam.create_time AS notam_create_time, notam.update_time AS notam_update_time \n",
      "FROM notam \n",
      "WHERE notam.notam_id IN (%(notam_id_1_1)s)\n"
     ]
    },
    {
     "name": "stdout",
     "output_type": "stream",
     "text": [
      "2023-05-18 17:49:30,655 INFO sqlalchemy.engine.Engine [generated in 0.01420s] {'notam_id_1_1': 'V0230/23'}\n"
     ]
    },
    {
     "name": "stderr",
     "output_type": "stream",
     "text": [
      "INFO:sqlalchemy.engine.Engine:[generated in 0.01420s] {'notam_id_1_1': 'V0230/23'}\n"
     ]
    },
    {
     "name": "stdout",
     "output_type": "stream",
     "text": [
      "2023-05-18 17:49:30,858 INFO sqlalchemy.engine.Engine ROLLBACK\n"
     ]
    },
    {
     "name": "stderr",
     "output_type": "stream",
     "text": [
      "INFO:sqlalchemy.engine.Engine:ROLLBACK\n"
     ]
    },
    {
     "name": "stdout",
     "output_type": "stream",
     "text": [
      "ELLX V0230/23 [US DOD PROCEDURAL NOTAM] INSTRUMENT APPROACH PROCEDURE AMENDMENT\n",
      " RNP RWY 24 INCREASE LAND MINIMA. RAISE LNAV/VNAV DA** CAT D TO\n",
      " 1617/1700M 404 (500-1700M). CHG * NO-LIGHT NOTE TO READ: **WHEN ALS\n",
      " INOP, INCR CAT ABC RVR/VIS TO 1700M; CAT D RVR/VIS TO 1900M.\n",
      "CREATED: 13 Apr 2023 11:21:00 \n",
      "SOURCE: KQZC\n",
      "\n"
     ]
    }
   ],
   "source": [
    "options = [\n",
    "    \"V0230/23\",\n",
    "    # \"A2072/23\",\n",
    "    # \"A2068/23\",\n",
    "    # \"A1949/23\",\n",
    "    # \"A1882/23\",\n",
    "    # \"A1834/23\",\n",
    "    # \"A1833/23\",\n",
    "    # \"A1748/23\",\n",
    "    # \"A1747/23\"\n",
    "]\n",
    "notam_messages = get_notam_messages(engine.get_engine(), options)\n",
    "print(notam_messages)"
   ],
   "metadata": {
    "collapsed": false,
    "ExecuteTime": {
     "end_time": "2023-05-18T09:49:31.293172Z",
     "start_time": "2023-05-18T09:49:30.218753Z"
    }
   }
  },
  {
   "cell_type": "code",
   "execution_count": 7,
   "outputs": [
    {
     "name": "stdout",
     "output_type": "stream",
     "text": [
      "|NOTAM|Explained|Tag|\n",
      "|-----|---------|---|\n",
      "|***ELLX V0230/23***|Instrument approach procedure amendment|A2 - ATC procedure|\n",
      "|***RNP RWY 24 INCREASE LAND MINIMA. RAISE LNAV/VNAV DA CAT D TO 1617/1700M 404 (500-1700M). CHG NO-LIGHT NOTE TO READ: WHEN ALS INOP, INCR CAT ABC RVR/VIS TO 1700M; CAT D RVR/VIS TO 1900M.***|Change to RNP RWY 24 approach minima|A1 - Approach not available|\n"
     ]
    }
   ],
   "source": [
    "notam_table = notam_llm_chat.chat_to_get_notam_about(notam_tags, notam_messages)\n",
    "print(notam_table)"
   ],
   "metadata": {
    "collapsed": false,
    "ExecuteTime": {
     "end_time": "2023-05-18T09:49:47.895797Z",
     "start_time": "2023-05-18T09:49:32.671317Z"
    }
   }
  },
  {
   "cell_type": "code",
   "execution_count": null,
   "outputs": [],
   "source": [],
   "metadata": {
    "collapsed": false
   }
  }
 ],
 "metadata": {
  "kernelspec": {
   "display_name": "Python 3",
   "language": "python",
   "name": "python3"
  },
  "language_info": {
   "codemirror_mode": {
    "name": "ipython",
    "version": 2
   },
   "file_extension": ".py",
   "mimetype": "text/x-python",
   "name": "python",
   "nbconvert_exporter": "python",
   "pygments_lexer": "ipython2",
   "version": "2.7.6"
  }
 },
 "nbformat": 4,
 "nbformat_minor": 0
}
