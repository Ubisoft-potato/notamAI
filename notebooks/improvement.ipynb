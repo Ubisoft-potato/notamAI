{
 "cells": [
  {
   "cell_type": "markdown",
   "source": [
    "# Speed Improvements Research"
   ],
   "metadata": {
    "collapsed": false
   }
  },
  {
   "cell_type": "code",
   "execution_count": 1,
   "outputs": [
    {
     "data": {
      "text/plain": "True"
     },
     "execution_count": 1,
     "metadata": {},
     "output_type": "execute_result"
    }
   ],
   "source": [
    "import os\n",
    "import sys\n",
    "\n",
    "import dotenv\n",
    "\n",
    "module_path = os.path.abspath(os.path.join('..'))\n",
    "if module_path not in sys.path:\n",
    "    sys.path.append(module_path)\n",
    "from app import *\n",
    "from persist.mysql import *\n",
    "\n",
    "dotenv.load_dotenv(\"../.env\")"
   ],
   "metadata": {
    "collapsed": false,
    "ExecuteTime": {
     "end_time": "2023-05-24T00:14:18.828782Z",
     "start_time": "2023-05-24T00:14:13.990779Z"
    }
   }
  },
  {
   "cell_type": "code",
   "execution_count": 2,
   "outputs": [
    {
     "name": "stdout",
     "output_type": "stream",
     "text": [
      "2023-05-24 08:14:24,041 INFO sqlalchemy.engine.Engine SELECT DATABASE()\n"
     ]
    },
    {
     "name": "stderr",
     "output_type": "stream",
     "text": [
      "INFO:sqlalchemy.engine.Engine:SELECT DATABASE()\n"
     ]
    },
    {
     "name": "stdout",
     "output_type": "stream",
     "text": [
      "2023-05-24 08:14:24,043 INFO sqlalchemy.engine.Engine [raw sql] {}\n"
     ]
    },
    {
     "name": "stderr",
     "output_type": "stream",
     "text": [
      "INFO:sqlalchemy.engine.Engine:[raw sql] {}\n"
     ]
    },
    {
     "name": "stdout",
     "output_type": "stream",
     "text": [
      "2023-05-24 08:14:24,445 INFO sqlalchemy.engine.Engine SELECT @@sql_mode\n"
     ]
    },
    {
     "name": "stderr",
     "output_type": "stream",
     "text": [
      "INFO:sqlalchemy.engine.Engine:SELECT @@sql_mode\n"
     ]
    },
    {
     "name": "stdout",
     "output_type": "stream",
     "text": [
      "2023-05-24 08:14:24,447 INFO sqlalchemy.engine.Engine [raw sql] {}\n"
     ]
    },
    {
     "name": "stderr",
     "output_type": "stream",
     "text": [
      "INFO:sqlalchemy.engine.Engine:[raw sql] {}\n"
     ]
    },
    {
     "name": "stdout",
     "output_type": "stream",
     "text": [
      "2023-05-24 08:14:24,653 INFO sqlalchemy.engine.Engine SELECT @@lower_case_table_names\n"
     ]
    },
    {
     "name": "stderr",
     "output_type": "stream",
     "text": [
      "INFO:sqlalchemy.engine.Engine:SELECT @@lower_case_table_names\n"
     ]
    },
    {
     "name": "stdout",
     "output_type": "stream",
     "text": [
      "2023-05-24 08:14:24,654 INFO sqlalchemy.engine.Engine [raw sql] {}\n"
     ]
    },
    {
     "name": "stderr",
     "output_type": "stream",
     "text": [
      "INFO:sqlalchemy.engine.Engine:[raw sql] {}\n"
     ]
    },
    {
     "name": "stdout",
     "output_type": "stream",
     "text": [
      "2023-05-24 08:14:25,076 INFO sqlalchemy.engine.Engine BEGIN (implicit)\n"
     ]
    },
    {
     "name": "stderr",
     "output_type": "stream",
     "text": [
      "INFO:sqlalchemy.engine.Engine:BEGIN (implicit)\n"
     ]
    },
    {
     "name": "stdout",
     "output_type": "stream",
     "text": [
      "2023-05-24 08:14:25,077 INFO sqlalchemy.engine.Engine DESCRIBE `notam_ai`.`notam`\n"
     ]
    },
    {
     "name": "stderr",
     "output_type": "stream",
     "text": [
      "INFO:sqlalchemy.engine.Engine:DESCRIBE `notam_ai`.`notam`\n"
     ]
    },
    {
     "name": "stdout",
     "output_type": "stream",
     "text": [
      "2023-05-24 08:14:25,080 INFO sqlalchemy.engine.Engine [raw sql] {}\n"
     ]
    },
    {
     "name": "stderr",
     "output_type": "stream",
     "text": [
      "INFO:sqlalchemy.engine.Engine:[raw sql] {}\n"
     ]
    },
    {
     "name": "stdout",
     "output_type": "stream",
     "text": [
      "2023-05-24 08:14:25,296 INFO sqlalchemy.engine.Engine DESCRIBE `notam_ai`.`notam_tag`\n"
     ]
    },
    {
     "name": "stderr",
     "output_type": "stream",
     "text": [
      "INFO:sqlalchemy.engine.Engine:DESCRIBE `notam_ai`.`notam_tag`\n"
     ]
    },
    {
     "name": "stdout",
     "output_type": "stream",
     "text": [
      "2023-05-24 08:14:25,298 INFO sqlalchemy.engine.Engine [raw sql] {}\n"
     ]
    },
    {
     "name": "stderr",
     "output_type": "stream",
     "text": [
      "INFO:sqlalchemy.engine.Engine:[raw sql] {}\n"
     ]
    },
    {
     "name": "stdout",
     "output_type": "stream",
     "text": [
      "2023-05-24 08:14:25,505 INFO sqlalchemy.engine.Engine COMMIT\n"
     ]
    },
    {
     "name": "stderr",
     "output_type": "stream",
     "text": [
      "INFO:sqlalchemy.engine.Engine:COMMIT\n"
     ]
    }
   ],
   "source": [
    "engine = MySQLEngine()"
   ],
   "metadata": {
    "collapsed": false,
    "ExecuteTime": {
     "end_time": "2023-05-24T00:14:25.917451Z",
     "start_time": "2023-05-24T00:14:19.735225Z"
    }
   }
  },
  {
   "cell_type": "code",
   "execution_count": 3,
   "outputs": [
    {
     "name": "stdout",
     "output_type": "stream",
     "text": [
      "2023-05-24 08:14:31,462 INFO sqlalchemy.engine.Engine BEGIN (implicit)\n"
     ]
    },
    {
     "name": "stderr",
     "output_type": "stream",
     "text": [
      "INFO:sqlalchemy.engine.Engine:BEGIN (implicit)\n"
     ]
    },
    {
     "name": "stdout",
     "output_type": "stream",
     "text": [
      "2023-05-24 08:14:31,466 INFO sqlalchemy.engine.Engine SELECT notam_tag.id AS notam_tag_id, notam_tag.level AS notam_tag_level, notam_tag.tag AS notam_tag_tag, notam_tag.description AS notam_tag_description, notam_tag.class_name AS notam_tag_class_name \n",
      "FROM notam_tag\n"
     ]
    },
    {
     "name": "stderr",
     "output_type": "stream",
     "text": [
      "INFO:sqlalchemy.engine.Engine:SELECT notam_tag.id AS notam_tag_id, notam_tag.level AS notam_tag_level, notam_tag.tag AS notam_tag_tag, notam_tag.description AS notam_tag_description, notam_tag.class_name AS notam_tag_class_name \n",
      "FROM notam_tag\n"
     ]
    },
    {
     "name": "stdout",
     "output_type": "stream",
     "text": [
      "2023-05-24 08:14:31,468 INFO sqlalchemy.engine.Engine [generated in 0.00169s] {}\n"
     ]
    },
    {
     "name": "stderr",
     "output_type": "stream",
     "text": [
      "INFO:sqlalchemy.engine.Engine:[generated in 0.00169s] {}\n"
     ]
    },
    {
     "name": "stdout",
     "output_type": "stream",
     "text": [
      "2023-05-24 08:14:31,679 INFO sqlalchemy.engine.Engine ROLLBACK\n"
     ]
    },
    {
     "name": "stderr",
     "output_type": "stream",
     "text": [
      "INFO:sqlalchemy.engine.Engine:ROLLBACK\n"
     ]
    },
    {
     "name": "stdout",
     "output_type": "stream",
     "text": [
      "C1 *ATC status/hours* ATC operating hours, ATC Strike, ATC failure (ATC Zero). Including FIS/AFIS\n",
      "C2 *ATC procedure* TWR/APP/ACC change of procedure, lost comms procedure, contingency, emergency, DCL departure clearance\n",
      "C3 *ATC flow and delay* Flow control, enroute delays, expect holding\n",
      "C4 *Radio* HF, VHF, CPDLC, Satcom, ATIS - u/s, freq changes etc. KHZ, MHZ.\n",
      "C5 *Radar & ADS* Radar (PSR, MSSR, SMR, PAR, TAR), ADS (ADS-B, ADS-C) & MLAT\n",
      "C6 *Met* Met service hours, VOLMET, Met Equipment, Met Strikes\n",
      "P1 *Airport status/hours* Airport Closed, Airport operating hours, AD AP not available\n",
      "P2 *Airport restriction* Not available as alternate, airport slots, PPR required, max aircraft weight, etc.\n",
      "P3 *Fire & Rescue* RFF Category change, Rescue equipment\n",
      "P4 *Fuel* All fuel related NOTAMs, JET, JETA1, Avgas, Hydrants, Tankering\n",
      "P5 *Apron & Parking* Apron, Stands, Gates, Followme, Apron lighting, docking, guidance, limited parking\n",
      "P6 *Airport Facilities* Equipment (GSE, Rwy/Twy equip, WDI etc.), Facilities Pax processing, Airport staff strike.\n",
      "P7 *Airport Procedure* Manoeuvring, Handling, Deboarding, APU usage etc. NABT and noise curfew\n",
      "P8 *WIP & Construction* Work in Progress, WIP, Construction, Building works, digging, men and equipment\n",
      "A1 *Approach not available* Instrument approach not available, suspended eg. ILS, VOR/DME approach, RNP approach, LPV.\n",
      "A2 *Approach degraded* Some part of ILS not working, no cirlcing, minima not available\n",
      "A3 *Approach change* Chart change, Missed approach, RVR minina\n",
      "R1 *Runway closed* Runway Closed/Hours\n",
      "R2 *Runway length* TODA, TORA, ASDA, LDA changed, Displaced THR, CWY, Width change.\n",
      "R3 *Runway strength* Runway PCN change, weight restriction.\n",
      "R4 *Runway lights* Including ALS/Approach lights, Stopbars, PAPI, VASI\n",
      "R5 *Runway condition* Poor suface, potholes, ungrooved, FOD, contamination (sand, ash), RWYCC\n",
      "R6 *Runway note* Eg. Runway for Arrivals/Departures only, any other minor changes, runway reopened. Runway markings go here too, signs changed, missing, obscured. Building turbulence (Windshear)\n",
      "T1 *Taxiway closed* TWY closed, All taxiway closures.\n",
      "T2 *Taxiway restriction* Taxiway limited to specific aircraft weight/MTOW, entry points, one-way taxiways\n",
      "T3 *Taxiway lights* TWY taxiway Lights\n",
      "T4 *Taxiway condition* Poor surface, potholes\n",
      "T5 *Taxiway note* Taxiway Signs, markings, New named, new taxiway, re-opened. \n",
      "N1 *Navaid status* Navaids like VOR, NDB, TACAN. U/S, downgraded.\n",
      "N2 *Arrival* STAR (Standard Instrument Arrival), any changes to arrival\n",
      "N3 *Departure* SID, SID not avbl. change, any changes to departures\n",
      "N4 *GPS* GPS outages, GPS jamming, RAIM, GNSS, EGNOS, WAAS\n",
      "S1 *Route closed* Airway, ATS Route closed\n",
      "S2 *Route restriction* Airway, ATS Route Open but some restriction\n",
      "S3 *Route changed* Change to ATS Route, Airway definition\n",
      "S4 *Special Use Airspace* SUA's - Danger, Prohibited, Restricted, TRA\n",
      "S5 *Special Routes* Conditional routes. CDR open/closed. CDR1, CDR2, CDR3. Track Systems: Prefered routing, flight level allocation scheme (FLAS), User Prefered Routings (UPR), AUSOTS, Pacific OTS, NAR, NAT Tracks\n",
      "S6 *Airspace structure* Change to specific area, eg. CTR, TMA, FIR, coordinates\n",
      "H1 *Aircraft activity* Air Display, Aerobatics, Balloon or Kite, Exercises, Air Refuelling, Glider, Paraglider, Hang Glider, Banner towing, Mass Movement of aircraft, Parachuting (PJE), Unmanned aircraft, Formation flight, Aerial Survey, Model Flying\n",
      "H2 *Explosives* Fireworks, Blasting, Demolition of explosives, Burning gas\n",
      "H3 *Missile, Gun or Rocket Firing* Military exercises involving any firing activity\n",
      "H4 *Obstacle - New* OBST Newly erected Obstacle, Crane, Wind Farm, Turbines, LIT OBST\n",
      "H5 *Obstacle - Light out* OBST Lights not working u/s Obstacle, Crane, Wind Farm, Turbines\n",
      "H6 *Wildlife* Birds, animals\n",
      "L1 *Trigger Notam* Trigger Notam pointing to AIRAC change, AIC Sup, etc.\n",
      "L2 *Checklist NOTAM* Q-KKKK/Checklist of valid NOTAMs\n",
      "L3 *AIP Change* Change to AIP. Use also for AIC related NOTAM\n",
      "L4 *AIP Chart Change* Small chart change ie not AIP, including enroute charts.\n",
      "L5 *Flight Planning* Flight planning requirements, Field 18 of FPL\n",
      "L6 *State Rule* National notices, Covid rules, Turkey-Greece notams\n",
      "L7 *Security warnings* Risk warnings, Conflict Zones, Security related NOTAM\n",
      "\n"
     ]
    }
   ],
   "source": [
    "notam_llm_chat = NOTAMLLMChat(verbose=True)\n",
    "notam_tags = get_list_of_tags(engine.get_engine())\n",
    "print(notam_tags)"
   ],
   "metadata": {
    "collapsed": false,
    "ExecuteTime": {
     "end_time": "2023-05-24T00:14:32.168567Z",
     "start_time": "2023-05-24T00:14:31.226563Z"
    }
   }
  },
  {
   "cell_type": "code",
   "execution_count": 4,
   "outputs": [
    {
     "name": "stdout",
     "output_type": "stream",
     "text": [
      "2023-05-24 08:14:41,061 INFO sqlalchemy.engine.Engine BEGIN (implicit)\n"
     ]
    },
    {
     "name": "stderr",
     "output_type": "stream",
     "text": [
      "INFO:sqlalchemy.engine.Engine:BEGIN (implicit)\n"
     ]
    },
    {
     "name": "stdout",
     "output_type": "stream",
     "text": [
      "2023-05-24 08:14:41,095 INFO sqlalchemy.engine.Engine SELECT notam.id AS notam_id_1, notam.notam_id AS notam_notam_id, notam.message AS notam_message, notam.location AS notam_location, notam.tag AS notam_tag, notam.summary AS notam_summary, notam.create_time AS notam_create_time, notam.update_time AS notam_update_time \n",
      "FROM notam \n",
      "WHERE notam.notam_id IN (%(notam_id_1_1)s)\n"
     ]
    },
    {
     "name": "stderr",
     "output_type": "stream",
     "text": [
      "INFO:sqlalchemy.engine.Engine:SELECT notam.id AS notam_id_1, notam.notam_id AS notam_notam_id, notam.message AS notam_message, notam.location AS notam_location, notam.tag AS notam_tag, notam.summary AS notam_summary, notam.create_time AS notam_create_time, notam.update_time AS notam_update_time \n",
      "FROM notam \n",
      "WHERE notam.notam_id IN (%(notam_id_1_1)s)\n"
     ]
    },
    {
     "name": "stdout",
     "output_type": "stream",
     "text": [
      "2023-05-24 08:14:41,115 INFO sqlalchemy.engine.Engine [generated in 0.02028s] {'notam_id_1_1': 'V0230/23'}\n"
     ]
    },
    {
     "name": "stderr",
     "output_type": "stream",
     "text": [
      "INFO:sqlalchemy.engine.Engine:[generated in 0.02028s] {'notam_id_1_1': 'V0230/23'}\n"
     ]
    },
    {
     "name": "stdout",
     "output_type": "stream",
     "text": [
      "2023-05-24 08:14:41,329 INFO sqlalchemy.engine.Engine ROLLBACK\n"
     ]
    },
    {
     "name": "stderr",
     "output_type": "stream",
     "text": [
      "INFO:sqlalchemy.engine.Engine:ROLLBACK\n"
     ]
    },
    {
     "name": "stdout",
     "output_type": "stream",
     "text": [
      "ELLX V0230/23 [US DOD PROCEDURAL NOTAM] INSTRUMENT APPROACH PROCEDURE AMENDMENT\n",
      " RNP RWY 24 INCREASE LAND MINIMA. RAISE LNAV/VNAV DA** CAT D TO\n",
      " 1617/1700M 404 (500-1700M). CHG * NO-LIGHT NOTE TO READ: **WHEN ALS\n",
      " INOP, INCR CAT ABC RVR/VIS TO 1700M; CAT D RVR/VIS TO 1900M.\n",
      "CREATED: 13 Apr 2023 11:21:00 \n",
      "SOURCE: KQZC\n",
      "\n"
     ]
    }
   ],
   "source": [
    "options = [\n",
    "    \"V0230/23\",\n",
    "    # \"A2072/23\",\n",
    "    # \"A2068/23\",\n",
    "    # \"A1949/23\",\n",
    "    # \"A1882/23\",\n",
    "    # \"A1834/23\",\n",
    "    # \"A1833/23\",\n",
    "    # \"A1748/23\",\n",
    "    # \"A1747/23\"\n",
    "]\n",
    "notam_messages = get_notam_messages(engine.get_engine(), options)\n",
    "print(notam_messages)"
   ],
   "metadata": {
    "collapsed": false,
    "ExecuteTime": {
     "end_time": "2023-05-24T00:14:41.748491Z",
     "start_time": "2023-05-24T00:14:40.707805Z"
    }
   }
  },
  {
   "cell_type": "code",
   "execution_count": 5,
   "outputs": [
    {
     "name": "stdout",
     "output_type": "stream",
     "text": [
      "\n",
      "\n",
      "\u001B[1m> Entering new LLMChain chain...\u001B[0m\n",
      "Prompt after formatting:\n",
      "\u001B[32;1m\u001B[1;3mSystem: You are a NOTAM Librarian. I will give you a series of NOTAM messages and a list of NOTAM Tags.For each series of NOTAM messages, create a markdown format table with the columns below. Each NOTAM should be on one row. Columns:A. **NOTAM** - NOTAM ICAO code and ID. Add one asterisk (*) before and after the NOTAM.B. **Explained** - In very simple English only, explain the NOTAM in 4 words or less.Do not use abbreviations. Use sentence case.C. **Tag**. Choose the most logical Tag for this NOTAM from the list of Tags.Format as Tag Code - Tag Name. Add two asterisks (**) before and after the Tag.\n",
      "Human: List of NOTAM Tags,in three columns:\n",
      "Tag Code  Tag Name  Tag Description\n",
      "C1 *ATC status/hours* ATC operating hours, ATC Strike, ATC failure (ATC Zero). Including FIS/AFIS\n",
      "C2 *ATC procedure* TWR/APP/ACC change of procedure, lost comms procedure, contingency, emergency, DCL departure clearance\n",
      "C3 *ATC flow and delay* Flow control, enroute delays, expect holding\n",
      "C4 *Radio* HF, VHF, CPDLC, Satcom, ATIS - u/s, freq changes etc. KHZ, MHZ.\n",
      "C5 *Radar & ADS* Radar (PSR, MSSR, SMR, PAR, TAR), ADS (ADS-B, ADS-C) & MLAT\n",
      "C6 *Met* Met service hours, VOLMET, Met Equipment, Met Strikes\n",
      "P1 *Airport status/hours* Airport Closed, Airport operating hours, AD AP not available\n",
      "P2 *Airport restriction* Not available as alternate, airport slots, PPR required, max aircraft weight, etc.\n",
      "P3 *Fire & Rescue* RFF Category change, Rescue equipment\n",
      "P4 *Fuel* All fuel related NOTAMs, JET, JETA1, Avgas, Hydrants, Tankering\n",
      "P5 *Apron & Parking* Apron, Stands, Gates, Followme, Apron lighting, docking, guidance, limited parking\n",
      "P6 *Airport Facilities* Equipment (GSE, Rwy/Twy equip, WDI etc.), Facilities Pax processing, Airport staff strike.\n",
      "P7 *Airport Procedure* Manoeuvring, Handling, Deboarding, APU usage etc. NABT and noise curfew\n",
      "P8 *WIP & Construction* Work in Progress, WIP, Construction, Building works, digging, men and equipment\n",
      "A1 *Approach not available* Instrument approach not available, suspended eg. ILS, VOR/DME approach, RNP approach, LPV.\n",
      "A2 *Approach degraded* Some part of ILS not working, no cirlcing, minima not available\n",
      "A3 *Approach change* Chart change, Missed approach, RVR minina\n",
      "R1 *Runway closed* Runway Closed/Hours\n",
      "R2 *Runway length* TODA, TORA, ASDA, LDA changed, Displaced THR, CWY, Width change.\n",
      "R3 *Runway strength* Runway PCN change, weight restriction.\n",
      "R4 *Runway lights* Including ALS/Approach lights, Stopbars, PAPI, VASI\n",
      "R5 *Runway condition* Poor suface, potholes, ungrooved, FOD, contamination (sand, ash), RWYCC\n",
      "R6 *Runway note* Eg. Runway for Arrivals/Departures only, any other minor changes, runway reopened. Runway markings go here too, signs changed, missing, obscured. Building turbulence (Windshear)\n",
      "T1 *Taxiway closed* TWY closed, All taxiway closures.\n",
      "T2 *Taxiway restriction* Taxiway limited to specific aircraft weight/MTOW, entry points, one-way taxiways\n",
      "T3 *Taxiway lights* TWY taxiway Lights\n",
      "T4 *Taxiway condition* Poor surface, potholes\n",
      "T5 *Taxiway note* Taxiway Signs, markings, New named, new taxiway, re-opened. \n",
      "N1 *Navaid status* Navaids like VOR, NDB, TACAN. U/S, downgraded.\n",
      "N2 *Arrival* STAR (Standard Instrument Arrival), any changes to arrival\n",
      "N3 *Departure* SID, SID not avbl. change, any changes to departures\n",
      "N4 *GPS* GPS outages, GPS jamming, RAIM, GNSS, EGNOS, WAAS\n",
      "S1 *Route closed* Airway, ATS Route closed\n",
      "S2 *Route restriction* Airway, ATS Route Open but some restriction\n",
      "S3 *Route changed* Change to ATS Route, Airway definition\n",
      "S4 *Special Use Airspace* SUA's - Danger, Prohibited, Restricted, TRA\n",
      "S5 *Special Routes* Conditional routes. CDR open/closed. CDR1, CDR2, CDR3. Track Systems: Prefered routing, flight level allocation scheme (FLAS), User Prefered Routings (UPR), AUSOTS, Pacific OTS, NAR, NAT Tracks\n",
      "S6 *Airspace structure* Change to specific area, eg. CTR, TMA, FIR, coordinates\n",
      "H1 *Aircraft activity* Air Display, Aerobatics, Balloon or Kite, Exercises, Air Refuelling, Glider, Paraglider, Hang Glider, Banner towing, Mass Movement of aircraft, Parachuting (PJE), Unmanned aircraft, Formation flight, Aerial Survey, Model Flying\n",
      "H2 *Explosives* Fireworks, Blasting, Demolition of explosives, Burning gas\n",
      "H3 *Missile, Gun or Rocket Firing* Military exercises involving any firing activity\n",
      "H4 *Obstacle - New* OBST Newly erected Obstacle, Crane, Wind Farm, Turbines, LIT OBST\n",
      "H5 *Obstacle - Light out* OBST Lights not working u/s Obstacle, Crane, Wind Farm, Turbines\n",
      "H6 *Wildlife* Birds, animals\n",
      "L1 *Trigger Notam* Trigger Notam pointing to AIRAC change, AIC Sup, etc.\n",
      "L2 *Checklist NOTAM* Q-KKKK/Checklist of valid NOTAMs\n",
      "L3 *AIP Change* Change to AIP. Use also for AIC related NOTAM\n",
      "L4 *AIP Chart Change* Small chart change ie not AIP, including enroute charts.\n",
      "L5 *Flight Planning* Flight planning requirements, Field 18 of FPL\n",
      "L6 *State Rule* National notices, Covid rules, Turkey-Greece notams\n",
      "L7 *Security warnings* Risk warnings, Conflict Zones, Security related NOTAM\n",
      "\n",
      "Read and wait, no action yet.\n",
      "AI: Understood. Waiting for the NOTAM messages.\n",
      "Human: ELLX V0230/23 [US DOD PROCEDURAL NOTAM] INSTRUMENT APPROACH PROCEDURE AMENDMENT\n",
      " RNP RWY 24 INCREASE LAND MINIMA. RAISE LNAV/VNAV DA** CAT D TO\n",
      " 1617/1700M 404 (500-1700M). CHG * NO-LIGHT NOTE TO READ: **WHEN ALS\n",
      " INOP, INCR CAT ABC RVR/VIS TO 1700M; CAT D RVR/VIS TO 1900M.\n",
      "CREATED: 13 Apr 2023 11:21:00 \n",
      "SOURCE: KQZC\n",
      "\u001B[0m\n",
      "\n",
      "\u001B[1m> Finished chain.\u001B[0m\n",
      "| **NOTAM** | **Explained** | **Tag** |\n",
      "|:---------:|:-------------:|:-------:|\n",
      "| *ELLX V0230/23* | Instrument approach procedure amended | A1 - Approach not available |\n",
      "\n"
     ]
    }
   ],
   "source": [
    "notam_table = notam_llm_chat.chat_to_get_notam_about(notam_tags, notam_messages)\n",
    "print(notam_table)"
   ],
   "metadata": {
    "collapsed": false,
    "ExecuteTime": {
     "end_time": "2023-05-24T00:14:53.068324Z",
     "start_time": "2023-05-24T00:14:45.193078Z"
    }
   }
  },
  {
   "cell_type": "markdown",
   "source": [
    "## Try HuggingFace"
   ],
   "metadata": {
    "collapsed": false
   }
  },
  {
   "cell_type": "code",
   "execution_count": 7,
   "outputs": [],
   "source": [
    "from transformers import AutoTokenizer, AutoModel"
   ],
   "metadata": {
    "collapsed": false,
    "ExecuteTime": {
     "end_time": "2023-05-18T13:27:08.432020Z",
     "start_time": "2023-05-18T13:27:08.037502Z"
    }
   }
  },
  {
   "cell_type": "code",
   "execution_count": 9,
   "outputs": [
    {
     "name": "stderr",
     "output_type": "stream",
     "text": [
      "Explicitly passing a `revision` is encouraged when loading a model with custom code to ensure no malicious code has been contributed in a newer revision.\n"
     ]
    },
    {
     "data": {
      "text/plain": "Downloading:   0%|          | 0.00/2.58M [00:00<?, ?B/s]",
      "application/vnd.jupyter.widget-view+json": {
       "version_major": 2,
       "version_minor": 0,
       "model_id": "7d7f93f46480472ea1aedfdbdcc599b0"
      }
     },
     "metadata": {},
     "output_type": "display_data"
    }
   ],
   "source": [
    "tokenizer = AutoTokenizer.from_pretrained(\"THUDM/chatglm-6b\", trust_remote_code=True)"
   ],
   "metadata": {
    "collapsed": false,
    "ExecuteTime": {
     "end_time": "2023-05-18T13:31:03.389276Z",
     "start_time": "2023-05-18T13:30:52.460143Z"
    }
   }
  },
  {
   "cell_type": "code",
   "execution_count": 10,
   "outputs": [
    {
     "ename": "ImportError",
     "evalue": "\nAutoModel requires the PyTorch library but it was not found in your environment. Checkout the instructions on the\ninstallation page: https://pytorch.org/get-started/locally/ and follow the ones that match your environment.\n",
     "output_type": "error",
     "traceback": [
      "\u001B[0;31m---------------------------------------------------------------------------\u001B[0m",
      "\u001B[0;31mImportError\u001B[0m                               Traceback (most recent call last)",
      "\u001B[0;32m<ipython-input-10-de8ceb9af8f2>\u001B[0m in \u001B[0;36m<module>\u001B[0;34m\u001B[0m\n\u001B[0;32m----> 1\u001B[0;31m \u001B[0mmodel\u001B[0m \u001B[0;34m=\u001B[0m \u001B[0mAutoModel\u001B[0m\u001B[0;34m.\u001B[0m\u001B[0mfrom_pretrained\u001B[0m\u001B[0;34m(\u001B[0m\u001B[0;34m\"THUDM/chatglm-6b\"\u001B[0m\u001B[0;34m,\u001B[0m \u001B[0mtrust_remote_code\u001B[0m\u001B[0;34m=\u001B[0m\u001B[0;32mTrue\u001B[0m\u001B[0;34m)\u001B[0m\u001B[0;34m.\u001B[0m\u001B[0mhalf\u001B[0m\u001B[0;34m(\u001B[0m\u001B[0;34m)\u001B[0m\u001B[0;34m.\u001B[0m\u001B[0mcuda\u001B[0m\u001B[0;34m(\u001B[0m\u001B[0;34m)\u001B[0m\u001B[0;34m\u001B[0m\u001B[0;34m\u001B[0m\u001B[0m\n\u001B[0m",
      "\u001B[0;32m/usr/local/lib/python3.9/site-packages/transformers/utils/import_utils.py\u001B[0m in \u001B[0;36m__getattr__\u001B[0;34m(cls, key)\u001B[0m\n\u001B[1;32m    786\u001B[0m \u001B[0;34m{\u001B[0m\u001B[0;36m0\u001B[0m\u001B[0;34m}\u001B[0m \u001B[0mrequires\u001B[0m \u001B[0mthe\u001B[0m \u001B[0mprotobuf\u001B[0m \u001B[0mlibrary\u001B[0m \u001B[0mbut\u001B[0m \u001B[0mit\u001B[0m \u001B[0mwas\u001B[0m \u001B[0;32mnot\u001B[0m \u001B[0mfound\u001B[0m \u001B[0;32min\u001B[0m \u001B[0myour\u001B[0m \u001B[0menvironment\u001B[0m\u001B[0;34m.\u001B[0m \u001B[0mCheckout\u001B[0m \u001B[0mthe\u001B[0m \u001B[0minstructions\u001B[0m \u001B[0mon\u001B[0m \u001B[0mthe\u001B[0m\u001B[0;34m\u001B[0m\u001B[0;34m\u001B[0m\u001B[0m\n\u001B[1;32m    787\u001B[0m \u001B[0minstallation\u001B[0m \u001B[0mpage\u001B[0m \u001B[0mof\u001B[0m \u001B[0mits\u001B[0m \u001B[0mrepo\u001B[0m\u001B[0;34m:\u001B[0m \u001B[0mhttps\u001B[0m\u001B[0;34m:\u001B[0m\u001B[0;34m//\u001B[0m\u001B[0mgithub\u001B[0m\u001B[0;34m.\u001B[0m\u001B[0mcom\u001B[0m\u001B[0;34m/\u001B[0m\u001B[0mprotocolbuffers\u001B[0m\u001B[0;34m/\u001B[0m\u001B[0mprotobuf\u001B[0m\u001B[0;34m/\u001B[0m\u001B[0mtree\u001B[0m\u001B[0;34m/\u001B[0m\u001B[0mmaster\u001B[0m\u001B[0;34m/\u001B[0m\u001B[0mpython\u001B[0m\u001B[0;31m#installation and follow the ones\u001B[0m\u001B[0;34m\u001B[0m\u001B[0;34m\u001B[0m\u001B[0m\n\u001B[0;32m--> 788\u001B[0;31m \u001B[0mthat\u001B[0m \u001B[0mmatch\u001B[0m \u001B[0myour\u001B[0m \u001B[0menvironment\u001B[0m\u001B[0;34m.\u001B[0m \u001B[0mPlease\u001B[0m \u001B[0mnote\u001B[0m \u001B[0mthat\u001B[0m \u001B[0myou\u001B[0m \u001B[0mmay\u001B[0m \u001B[0mneed\u001B[0m \u001B[0mto\u001B[0m \u001B[0mrestart\u001B[0m \u001B[0myour\u001B[0m \u001B[0mruntime\u001B[0m \u001B[0mafter\u001B[0m \u001B[0minstallation\u001B[0m\u001B[0;34m.\u001B[0m\u001B[0;34m\u001B[0m\u001B[0;34m\u001B[0m\u001B[0m\n\u001B[0m\u001B[1;32m    789\u001B[0m \"\"\"\n\u001B[1;32m    790\u001B[0m \u001B[0;34m\u001B[0m\u001B[0m\n",
      "\u001B[0;32m/usr/local/lib/python3.9/site-packages/transformers/utils/import_utils.py\u001B[0m in \u001B[0;36mrequires_backends\u001B[0;34m(obj, backends)\u001B[0m\n\u001B[1;32m    774\u001B[0m \u001B[0;34m\u001B[0m\u001B[0m\n\u001B[1;32m    775\u001B[0m \u001B[0;34m\u001B[0m\u001B[0m\n\u001B[0;32m--> 776\u001B[0;31m \u001B[0;31m# docstyle-ignore\u001B[0m\u001B[0;34m\u001B[0m\u001B[0;34m\u001B[0m\u001B[0m\n\u001B[0m\u001B[1;32m    777\u001B[0m SENTENCEPIECE_IMPORT_ERROR = \"\"\"\n\u001B[1;32m    778\u001B[0m \u001B[0;34m{\u001B[0m\u001B[0;36m0\u001B[0m\u001B[0;34m}\u001B[0m \u001B[0mrequires\u001B[0m \u001B[0mthe\u001B[0m \u001B[0mSentencePiece\u001B[0m \u001B[0mlibrary\u001B[0m \u001B[0mbut\u001B[0m \u001B[0mit\u001B[0m \u001B[0mwas\u001B[0m \u001B[0;32mnot\u001B[0m \u001B[0mfound\u001B[0m \u001B[0;32min\u001B[0m \u001B[0myour\u001B[0m \u001B[0menvironment\u001B[0m\u001B[0;34m.\u001B[0m \u001B[0mCheckout\u001B[0m \u001B[0mthe\u001B[0m \u001B[0minstructions\u001B[0m \u001B[0mon\u001B[0m \u001B[0mthe\u001B[0m\u001B[0;34m\u001B[0m\u001B[0;34m\u001B[0m\u001B[0m\n",
      "\u001B[0;31mImportError\u001B[0m: \nAutoModel requires the PyTorch library but it was not found in your environment. Checkout the instructions on the\ninstallation page: https://pytorch.org/get-started/locally/ and follow the ones that match your environment.\n"
     ]
    }
   ],
   "source": [
    "model = AutoModel.from_pretrained(\"THUDM/chatglm-6b\", trust_remote_code=True).half().cuda()"
   ],
   "metadata": {
    "collapsed": false,
    "ExecuteTime": {
     "end_time": "2023-05-18T13:31:15.382541Z",
     "start_time": "2023-05-18T13:31:15.226069Z"
    }
   }
  },
  {
   "cell_type": "code",
   "execution_count": null,
   "outputs": [],
   "source": [],
   "metadata": {
    "collapsed": false
   }
  }
 ],
 "metadata": {
  "kernelspec": {
   "display_name": "Python 3",
   "language": "python",
   "name": "python3"
  },
  "language_info": {
   "codemirror_mode": {
    "name": "ipython",
    "version": 2
   },
   "file_extension": ".py",
   "mimetype": "text/x-python",
   "name": "python",
   "nbconvert_exporter": "python",
   "pygments_lexer": "ipython2",
   "version": "2.7.6"
  }
 },
 "nbformat": 4,
 "nbformat_minor": 0
}
