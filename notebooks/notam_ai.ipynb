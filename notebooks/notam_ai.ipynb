{
 "cells": [
  {
   "cell_type": "markdown",
   "source": [
    "## Setup MySQL connection"
   ],
   "metadata": {
    "collapsed": false
   }
  },
  {
   "cell_type": "code",
   "execution_count": 78,
   "metadata": {
    "collapsed": true,
    "ExecuteTime": {
     "end_time": "2023-05-13T04:25:03.324927Z",
     "start_time": "2023-05-13T04:25:03.316990Z"
    }
   },
   "outputs": [
    {
     "data": {
      "text/plain": "True"
     },
     "execution_count": 78,
     "metadata": {},
     "output_type": "execute_result"
    }
   ],
   "source": [
    "import dotenv\n",
    "import pandas as pd\n",
    "import requests\n",
    "from sqlalchemy.orm import Session\n",
    "\n",
    "from persist.mysql import *\n",
    "# import to create table\n",
    "from persist.notam import *\n",
    "\n",
    "dotenv.load_dotenv(\"../.env\")"
   ]
  },
  {
   "cell_type": "code",
   "execution_count": 73,
   "outputs": [
    {
     "name": "stdout",
     "output_type": "stream",
     "text": [
      "2023-05-13 12:23:05,629 INFO sqlalchemy.engine.Engine SELECT DATABASE()\n"
     ]
    },
    {
     "name": "stderr",
     "output_type": "stream",
     "text": [
      "INFO:sqlalchemy.engine.Engine:SELECT DATABASE()\n"
     ]
    },
    {
     "name": "stdout",
     "output_type": "stream",
     "text": [
      "2023-05-13 12:23:05,630 INFO sqlalchemy.engine.Engine [raw sql] {}\n"
     ]
    },
    {
     "name": "stderr",
     "output_type": "stream",
     "text": [
      "INFO:sqlalchemy.engine.Engine:[raw sql] {}\n"
     ]
    },
    {
     "name": "stdout",
     "output_type": "stream",
     "text": [
      "2023-05-13 12:23:07,201 INFO sqlalchemy.engine.Engine SELECT @@sql_mode\n"
     ]
    },
    {
     "name": "stderr",
     "output_type": "stream",
     "text": [
      "INFO:sqlalchemy.engine.Engine:SELECT @@sql_mode\n"
     ]
    },
    {
     "name": "stdout",
     "output_type": "stream",
     "text": [
      "2023-05-13 12:23:07,202 INFO sqlalchemy.engine.Engine [raw sql] {}\n"
     ]
    },
    {
     "name": "stderr",
     "output_type": "stream",
     "text": [
      "INFO:sqlalchemy.engine.Engine:[raw sql] {}\n"
     ]
    },
    {
     "name": "stdout",
     "output_type": "stream",
     "text": [
      "2023-05-13 12:23:07,308 INFO sqlalchemy.engine.Engine SELECT @@lower_case_table_names\n"
     ]
    },
    {
     "name": "stderr",
     "output_type": "stream",
     "text": [
      "INFO:sqlalchemy.engine.Engine:SELECT @@lower_case_table_names\n"
     ]
    },
    {
     "name": "stdout",
     "output_type": "stream",
     "text": [
      "2023-05-13 12:23:07,309 INFO sqlalchemy.engine.Engine [raw sql] {}\n"
     ]
    },
    {
     "name": "stderr",
     "output_type": "stream",
     "text": [
      "INFO:sqlalchemy.engine.Engine:[raw sql] {}\n"
     ]
    },
    {
     "name": "stdout",
     "output_type": "stream",
     "text": [
      "2023-05-13 12:23:07,541 INFO sqlalchemy.engine.Engine BEGIN (implicit)\n"
     ]
    },
    {
     "name": "stderr",
     "output_type": "stream",
     "text": [
      "INFO:sqlalchemy.engine.Engine:BEGIN (implicit)\n"
     ]
    },
    {
     "name": "stdout",
     "output_type": "stream",
     "text": [
      "2023-05-13 12:23:07,543 INFO sqlalchemy.engine.Engine DESCRIBE `notam_ai`.`notam`\n"
     ]
    },
    {
     "name": "stderr",
     "output_type": "stream",
     "text": [
      "INFO:sqlalchemy.engine.Engine:DESCRIBE `notam_ai`.`notam`\n"
     ]
    },
    {
     "name": "stdout",
     "output_type": "stream",
     "text": [
      "2023-05-13 12:23:07,545 INFO sqlalchemy.engine.Engine [raw sql] {}\n"
     ]
    },
    {
     "name": "stderr",
     "output_type": "stream",
     "text": [
      "INFO:sqlalchemy.engine.Engine:[raw sql] {}\n"
     ]
    },
    {
     "name": "stdout",
     "output_type": "stream",
     "text": [
      "2023-05-13 12:23:07,657 INFO sqlalchemy.engine.Engine DESCRIBE `notam_ai`.`notam_tag`\n"
     ]
    },
    {
     "name": "stderr",
     "output_type": "stream",
     "text": [
      "INFO:sqlalchemy.engine.Engine:DESCRIBE `notam_ai`.`notam_tag`\n"
     ]
    },
    {
     "name": "stdout",
     "output_type": "stream",
     "text": [
      "2023-05-13 12:23:07,658 INFO sqlalchemy.engine.Engine [raw sql] {}\n"
     ]
    },
    {
     "name": "stderr",
     "output_type": "stream",
     "text": [
      "INFO:sqlalchemy.engine.Engine:[raw sql] {}\n"
     ]
    },
    {
     "name": "stdout",
     "output_type": "stream",
     "text": [
      "2023-05-13 12:23:07,762 INFO sqlalchemy.engine.Engine COMMIT\n"
     ]
    },
    {
     "name": "stderr",
     "output_type": "stream",
     "text": [
      "INFO:sqlalchemy.engine.Engine:COMMIT\n"
     ]
    }
   ],
   "source": [
    "engine = MySQLEngine()"
   ],
   "metadata": {
    "collapsed": false,
    "ExecuteTime": {
     "end_time": "2023-05-13T04:23:07.978514Z",
     "start_time": "2023-05-13T04:23:02.761521Z"
    }
   }
  },
  {
   "cell_type": "code",
   "execution_count": null,
   "outputs": [],
   "source": [
    "# create the tables\n",
    "Base.metadata.create_all(engine.get_engine())"
   ],
   "metadata": {
    "collapsed": false
   }
  },
  {
   "cell_type": "markdown",
   "source": [
    "## Get the NOTAMS from API"
   ],
   "metadata": {
    "collapsed": false
   }
  },
  {
   "cell_type": "code",
   "execution_count": null,
   "outputs": [],
   "source": [
    "locations = \"ELLX,LFPG,EHAM\"\n",
    "\n",
    "notam_url = f\"http://api.anbdata.com/anb/states/notams/notams-realtime-list?api_key={os.getenv('NOTAM_API_KEY')}&locations={locations}\""
   ],
   "metadata": {
    "collapsed": false
   }
  },
  {
   "cell_type": "code",
   "execution_count": null,
   "outputs": [],
   "source": [
    "res = requests.get(notam_url).json()\n",
    "len(res)"
   ],
   "metadata": {
    "collapsed": false
   }
  },
  {
   "cell_type": "code",
   "execution_count": null,
   "outputs": [],
   "source": [
    "top20 = res[:20]\n",
    "notams = [NOTAM(notam_id=notam['id'],\n",
    "                message=notam['message'],\n",
    "                location=notam['location']) for notam in top20]"
   ],
   "metadata": {
    "collapsed": false
   }
  },
  {
   "cell_type": "code",
   "execution_count": null,
   "outputs": [],
   "source": [
    "print(f'notam_id: {notams[1].notam_id}\\n'\n",
    "      f'message: {notams[1].message}\\n'\n",
    "      f'location: {notams[1].location}')"
   ],
   "metadata": {
    "collapsed": false
   }
  },
  {
   "cell_type": "markdown",
   "source": [
    "## Persist the NOTAMs to MySQL"
   ],
   "metadata": {
    "collapsed": false
   }
  },
  {
   "cell_type": "code",
   "execution_count": null,
   "outputs": [],
   "source": [
    "with Session(engine.get_engine()) as session:\n",
    "    session.add_all(notams)"
   ],
   "metadata": {
    "collapsed": false
   }
  },
  {
   "cell_type": "code",
   "execution_count": 69,
   "outputs": [
    {
     "name": "stdout",
     "output_type": "stream",
     "text": [
      "2023-05-13 12:17:43,228 INFO sqlalchemy.engine.Engine BEGIN (implicit)\n"
     ]
    },
    {
     "name": "stderr",
     "output_type": "stream",
     "text": [
      "INFO:sqlalchemy.engine.Engine:BEGIN (implicit)\n"
     ]
    },
    {
     "name": "stdout",
     "output_type": "stream",
     "text": [
      "2023-05-13 12:17:43,231 INFO sqlalchemy.engine.Engine SELECT notam.id AS notam_id_1, notam.notam_id AS notam_notam_id, notam.message AS notam_message, notam.location AS notam_location, notam.tag AS notam_tag, notam.summary AS notam_summary, notam.create_time AS notam_create_time, notam.update_time AS notam_update_time \n",
      "FROM notam \n",
      " LIMIT %(param_1)s\n"
     ]
    },
    {
     "name": "stderr",
     "output_type": "stream",
     "text": [
      "INFO:sqlalchemy.engine.Engine:SELECT notam.id AS notam_id_1, notam.notam_id AS notam_notam_id, notam.message AS notam_message, notam.location AS notam_location, notam.tag AS notam_tag, notam.summary AS notam_summary, notam.create_time AS notam_create_time, notam.update_time AS notam_update_time \n",
      "FROM notam \n",
      " LIMIT %(param_1)s\n"
     ]
    },
    {
     "name": "stdout",
     "output_type": "stream",
     "text": [
      "2023-05-13 12:17:43,232 INFO sqlalchemy.engine.Engine [cached since 128s ago] {'param_1': 1}\n"
     ]
    },
    {
     "name": "stderr",
     "output_type": "stream",
     "text": [
      "INFO:sqlalchemy.engine.Engine:[cached since 128s ago] {'param_1': 1}\n"
     ]
    },
    {
     "name": "stdout",
     "output_type": "stream",
     "text": [
      "<NOTAM(id=1, notam_id=V0230/23, message=[US DOD PROCEDURAL NOTAM] INSTRUMENT APPROACH PROCEDURE AMENDMENT\n",
      " RNP RWY 24 INCREASE LAND MINIMA. RAISE LNAV/VNAV DA** CAT D TO\n",
      " 1617/1700M 404 (500-1700M). CHG * NO-LIGHT NOTE TO READ: **WHEN ALS\n",
      " INOP, INCR CAT ABC RVR/VIS TO 1700M; CAT D RVR/VIS TO 1900M.\n",
      "CREATED: 13 Apr 2023 11:21:00 \n",
      "SOURCE: KQZC, location=ELLX, tag=, summary=, create_time=2023-05-13 01:05:23, update_time=2023-05-13 01:05:23)>\n",
      "2023-05-13 12:17:43,346 INFO sqlalchemy.engine.Engine ROLLBACK\n"
     ]
    },
    {
     "name": "stderr",
     "output_type": "stream",
     "text": [
      "INFO:sqlalchemy.engine.Engine:ROLLBACK\n"
     ]
    }
   ],
   "source": [
    "with Session(engine.get_engine()) as session:\n",
    "    notam = session.query(NOTAM).first()\n",
    "    print(notam)"
   ],
   "metadata": {
    "collapsed": false,
    "ExecuteTime": {
     "end_time": "2023-05-13T04:17:43.533346Z",
     "start_time": "2023-05-13T04:17:43.117490Z"
    }
   }
  },
  {
   "cell_type": "markdown",
   "source": [
    "## Process the CSV Tags and persist to MySQL"
   ],
   "metadata": {
    "collapsed": false
   }
  },
  {
   "cell_type": "code",
   "execution_count": 64,
   "outputs": [
    {
     "data": {
      "text/plain": "    Unnamed: 0                             Unnamed: 1            Unnamed: 2  \\\n0          NaN  NOTAM TAGS (Final version for Sprint)                   NaN   \n1          NaN                                    NaN                   NaN   \n2          NaN                                    NaN                   NaN   \n3          NaN                                    NaN                   NaN   \n4          NaN                                    NaN                   NaN   \n5          NaN                                      C                   ATC   \n6          NaN                                    NaN                   NaN   \n7          NaN                                     C1      ATC status/hours   \n8          NaN                                     C2         ATC procedure   \n9          NaN                                     C3    ATC flow and delay   \n10         NaN                                     C4                 Radio   \n11         NaN                                     C5           Radar & ADS   \n12         NaN                                     C6                   Met   \n13         NaN                                    NaN                   NaN   \n14         NaN                                    NaN                   NaN   \n15         NaN                                      P               AIRPORT   \n16         NaN                                    NaN                   NaN   \n17         NaN                                     P1  Airport status/hours   \n18         NaN                                     P2   Airport restriction   \n19         NaN                                     P3         Fire & Rescue   \n\n    Unnamed: 3                                         Unnamed: 4  \n0          NaN                                                NaN  \n1          NaN                                                NaN  \n2          NaN                                        Description  \n3          NaN                               Now optimised for AI  \n4          NaN                                                NaN  \n5          NaN                                                NaN  \n6          NaN                                                NaN  \n7          NaN  ATC operating hours, ATC Strike, ATC failure (...  \n8          NaN  TWR/APP/ACC change of procedure, lost comms pr...  \n9          NaN       Flow control, enroute delays, expect holding  \n10         NaN  HF, VHF, CPDLC, Satcom, ATIS - u/s, freq chang...  \n11         NaN  Radar (PSR, MSSR, SMR, PAR, TAR), ADS (ADS-B, ...  \n12         NaN  Met service hours, VOLMET, Met Equipment, Met ...  \n13         NaN                                                NaN  \n14         NaN                                                NaN  \n15         NaN                                                NaN  \n16         NaN                                                NaN  \n17         NaN  Airport Closed, Airport operating hours, AD AP...  \n18         NaN  Not available as alternate, airport slots, PPR...  \n19         NaN              RFF Category change, Rescue equipment  ",
      "text/html": "<div>\n<style scoped>\n    .dataframe tbody tr th:only-of-type {\n        vertical-align: middle;\n    }\n\n    .dataframe tbody tr th {\n        vertical-align: top;\n    }\n\n    .dataframe thead th {\n        text-align: right;\n    }\n</style>\n<table border=\"1\" class=\"dataframe\">\n  <thead>\n    <tr style=\"text-align: right;\">\n      <th></th>\n      <th>Unnamed: 0</th>\n      <th>Unnamed: 1</th>\n      <th>Unnamed: 2</th>\n      <th>Unnamed: 3</th>\n      <th>Unnamed: 4</th>\n    </tr>\n  </thead>\n  <tbody>\n    <tr>\n      <th>0</th>\n      <td>NaN</td>\n      <td>NOTAM TAGS (Final version for Sprint)</td>\n      <td>NaN</td>\n      <td>NaN</td>\n      <td>NaN</td>\n    </tr>\n    <tr>\n      <th>1</th>\n      <td>NaN</td>\n      <td>NaN</td>\n      <td>NaN</td>\n      <td>NaN</td>\n      <td>NaN</td>\n    </tr>\n    <tr>\n      <th>2</th>\n      <td>NaN</td>\n      <td>NaN</td>\n      <td>NaN</td>\n      <td>NaN</td>\n      <td>Description</td>\n    </tr>\n    <tr>\n      <th>3</th>\n      <td>NaN</td>\n      <td>NaN</td>\n      <td>NaN</td>\n      <td>NaN</td>\n      <td>Now optimised for AI</td>\n    </tr>\n    <tr>\n      <th>4</th>\n      <td>NaN</td>\n      <td>NaN</td>\n      <td>NaN</td>\n      <td>NaN</td>\n      <td>NaN</td>\n    </tr>\n    <tr>\n      <th>5</th>\n      <td>NaN</td>\n      <td>C</td>\n      <td>ATC</td>\n      <td>NaN</td>\n      <td>NaN</td>\n    </tr>\n    <tr>\n      <th>6</th>\n      <td>NaN</td>\n      <td>NaN</td>\n      <td>NaN</td>\n      <td>NaN</td>\n      <td>NaN</td>\n    </tr>\n    <tr>\n      <th>7</th>\n      <td>NaN</td>\n      <td>C1</td>\n      <td>ATC status/hours</td>\n      <td>NaN</td>\n      <td>ATC operating hours, ATC Strike, ATC failure (...</td>\n    </tr>\n    <tr>\n      <th>8</th>\n      <td>NaN</td>\n      <td>C2</td>\n      <td>ATC procedure</td>\n      <td>NaN</td>\n      <td>TWR/APP/ACC change of procedure, lost comms pr...</td>\n    </tr>\n    <tr>\n      <th>9</th>\n      <td>NaN</td>\n      <td>C3</td>\n      <td>ATC flow and delay</td>\n      <td>NaN</td>\n      <td>Flow control, enroute delays, expect holding</td>\n    </tr>\n    <tr>\n      <th>10</th>\n      <td>NaN</td>\n      <td>C4</td>\n      <td>Radio</td>\n      <td>NaN</td>\n      <td>HF, VHF, CPDLC, Satcom, ATIS - u/s, freq chang...</td>\n    </tr>\n    <tr>\n      <th>11</th>\n      <td>NaN</td>\n      <td>C5</td>\n      <td>Radar &amp; ADS</td>\n      <td>NaN</td>\n      <td>Radar (PSR, MSSR, SMR, PAR, TAR), ADS (ADS-B, ...</td>\n    </tr>\n    <tr>\n      <th>12</th>\n      <td>NaN</td>\n      <td>C6</td>\n      <td>Met</td>\n      <td>NaN</td>\n      <td>Met service hours, VOLMET, Met Equipment, Met ...</td>\n    </tr>\n    <tr>\n      <th>13</th>\n      <td>NaN</td>\n      <td>NaN</td>\n      <td>NaN</td>\n      <td>NaN</td>\n      <td>NaN</td>\n    </tr>\n    <tr>\n      <th>14</th>\n      <td>NaN</td>\n      <td>NaN</td>\n      <td>NaN</td>\n      <td>NaN</td>\n      <td>NaN</td>\n    </tr>\n    <tr>\n      <th>15</th>\n      <td>NaN</td>\n      <td>P</td>\n      <td>AIRPORT</td>\n      <td>NaN</td>\n      <td>NaN</td>\n    </tr>\n    <tr>\n      <th>16</th>\n      <td>NaN</td>\n      <td>NaN</td>\n      <td>NaN</td>\n      <td>NaN</td>\n      <td>NaN</td>\n    </tr>\n    <tr>\n      <th>17</th>\n      <td>NaN</td>\n      <td>P1</td>\n      <td>Airport status/hours</td>\n      <td>NaN</td>\n      <td>Airport Closed, Airport operating hours, AD AP...</td>\n    </tr>\n    <tr>\n      <th>18</th>\n      <td>NaN</td>\n      <td>P2</td>\n      <td>Airport restriction</td>\n      <td>NaN</td>\n      <td>Not available as alternate, airport slots, PPR...</td>\n    </tr>\n    <tr>\n      <th>19</th>\n      <td>NaN</td>\n      <td>P3</td>\n      <td>Fire &amp; Rescue</td>\n      <td>NaN</td>\n      <td>RFF Category change, Rescue equipment</td>\n    </tr>\n  </tbody>\n</table>\n</div>"
     },
     "execution_count": 64,
     "metadata": {},
     "output_type": "execute_result"
    }
   ],
   "source": [
    "tags = pd.read_csv('../data/tags.csv')\n",
    "tags.head(20)"
   ],
   "metadata": {
    "collapsed": false,
    "ExecuteTime": {
     "end_time": "2023-05-13T04:16:34.717799Z",
     "start_time": "2023-05-13T04:16:34.697602Z"
    }
   }
  },
  {
   "cell_type": "code",
   "execution_count": 65,
   "outputs": [
    {
     "data": {
      "text/plain": "   Unnamed: 1                     Unnamed: 2  \\\n7          C1               ATC status/hours   \n8          C2                  ATC procedure   \n9          C3             ATC flow and delay   \n10         C4                          Radio   \n11         C5                    Radar & ADS   \n12         C6                            Met   \n17         P1           Airport status/hours   \n18         P2            Airport restriction   \n19         P3                  Fire & Rescue   \n20         P4                           Fuel   \n21         P5                Apron & Parking   \n22         P6             Airport Facilities   \n23         P7              Airport Procedure   \n24         P8             WIP & Construction   \n29         A1         Approach not available   \n30         A2              Approach degraded   \n31         A3                Approach change   \n36         R1                  Runway closed   \n37         R2                  Runway length   \n38         R3                Runway strength   \n39         R4                  Runway lights   \n40         R5               Runway condition   \n41         R6                    Runway note   \n46         T1                 Taxiway closed   \n47         T2            Taxiway restriction   \n48         T3                 Taxiway lights   \n49         T4              Taxiway condition   \n50         T5                   Taxiway note   \n55         N1                  Navaid status   \n56         N2                        Arrival   \n57         N3                      Departure   \n58         N4                            GPS   \n63         S1                   Route closed   \n64         S2              Route restriction   \n65         S3                  Route changed   \n66         S4           Special Use Airspace   \n67         S5                 Special Routes   \n68         S6             Airspace structure   \n73         H1              Aircraft activity   \n74         H2                     Explosives   \n75         H3  Missile, Gun or Rocket Firing   \n76         H4                 Obstacle - New   \n77         H5           Obstacle - Light out   \n78         H6                       Wildlife   \n83         L1                  Trigger Notam   \n84         L2                Checklist NOTAM   \n85         L3                     AIP Change   \n86         L4               AIP Chart Change   \n87         L5                Flight Planning   \n88         L6                     State Rule   \n89         L7              Security warnings   \n\n                                           Unnamed: 4  \n7   ATC operating hours, ATC Strike, ATC failure (...  \n8   TWR/APP/ACC change of procedure, lost comms pr...  \n9        Flow control, enroute delays, expect holding  \n10  HF, VHF, CPDLC, Satcom, ATIS - u/s, freq chang...  \n11  Radar (PSR, MSSR, SMR, PAR, TAR), ADS (ADS-B, ...  \n12  Met service hours, VOLMET, Met Equipment, Met ...  \n17  Airport Closed, Airport operating hours, AD AP...  \n18  Not available as alternate, airport slots, PPR...  \n19              RFF Category change, Rescue equipment  \n20  All fuel related NOTAMs, JET, JETA1, Avgas, Hy...  \n21  Apron, Stands, Gates, Followme, Apron lighting...  \n22  Equipment (GSE, Rwy/Twy equip, WDI etc.), Faci...  \n23  Manoeuvring, Handling, Deboarding, APU usage e...  \n24  Work in Progress, WIP, Construction, Building ...  \n29  Instrument approach not available, suspended e...  \n30  Some part of ILS not working, no cirlcing, min...  \n31          Chart change, Missed approach, RVR minina  \n36                                Runway Closed/Hours  \n37  TODA, TORA, ASDA, LDA changed, Displaced THR, ...  \n38             Runway PCN change, weight restriction.  \n39  Including ALS/Approach lights, Stopbars, PAPI,...  \n40  Poor suface, potholes, ungrooved, FOD, contami...  \n41  Eg. Runway for Arrivals/Departures only, any o...  \n46                  TWY closed, All taxiway closures.  \n47  Taxiway limited to specific aircraft weight/MT...  \n48                                 TWY taxiway Lights  \n49                             Poor surface, potholes  \n50  Taxiway Signs, markings, New named, new taxiwa...  \n55     Navaids like VOR, NDB, TACAN. U/S, downgraded.  \n56  STAR (Standard Instrument Arrival), any change...  \n57  SID, SID not avbl. change, any changes to depa...  \n58  GPS outages, GPS jamming, RAIM, GNSS, EGNOS, WAAS  \n63                           Airway, ATS Route closed  \n64        Airway, ATS Route Open but some restriction  \n65             Change to ATS Route, Airway definition  \n66        SUA's - Danger, Prohibited, Restricted, TRA  \n67  Conditional routes. CDR open/closed. CDR1, CDR...  \n68  Change to specific area, eg. CTR, TMA, FIR, co...  \n73  Air Display, Aerobatics, Balloon or Kite, Exer...  \n74  Fireworks, Blasting, Demolition of explosives,...  \n75   Military exercises involving any firing activity  \n76  OBST Newly erected Obstacle, Crane, Wind Farm,...  \n77  OBST Lights not working u/s Obstacle, Crane, W...  \n78                                     Birds, animals  \n83  Trigger Notam pointing to AIRAC change, AIC Su...  \n84                   Q-KKKK/Checklist of valid NOTAMs  \n85      Change to AIP. Use also for AIC related NOTAM  \n86  Small chart change ie not AIP, including enrou...  \n87      Flight planning requirements, Field 18 of FPL  \n88  National notices, Covid rules, Turkey-Greece n...  \n89  Risk warnings, Conflict Zones, Security relate...  ",
      "text/html": "<div>\n<style scoped>\n    .dataframe tbody tr th:only-of-type {\n        vertical-align: middle;\n    }\n\n    .dataframe tbody tr th {\n        vertical-align: top;\n    }\n\n    .dataframe thead th {\n        text-align: right;\n    }\n</style>\n<table border=\"1\" class=\"dataframe\">\n  <thead>\n    <tr style=\"text-align: right;\">\n      <th></th>\n      <th>Unnamed: 1</th>\n      <th>Unnamed: 2</th>\n      <th>Unnamed: 4</th>\n    </tr>\n  </thead>\n  <tbody>\n    <tr>\n      <th>7</th>\n      <td>C1</td>\n      <td>ATC status/hours</td>\n      <td>ATC operating hours, ATC Strike, ATC failure (...</td>\n    </tr>\n    <tr>\n      <th>8</th>\n      <td>C2</td>\n      <td>ATC procedure</td>\n      <td>TWR/APP/ACC change of procedure, lost comms pr...</td>\n    </tr>\n    <tr>\n      <th>9</th>\n      <td>C3</td>\n      <td>ATC flow and delay</td>\n      <td>Flow control, enroute delays, expect holding</td>\n    </tr>\n    <tr>\n      <th>10</th>\n      <td>C4</td>\n      <td>Radio</td>\n      <td>HF, VHF, CPDLC, Satcom, ATIS - u/s, freq chang...</td>\n    </tr>\n    <tr>\n      <th>11</th>\n      <td>C5</td>\n      <td>Radar &amp; ADS</td>\n      <td>Radar (PSR, MSSR, SMR, PAR, TAR), ADS (ADS-B, ...</td>\n    </tr>\n    <tr>\n      <th>12</th>\n      <td>C6</td>\n      <td>Met</td>\n      <td>Met service hours, VOLMET, Met Equipment, Met ...</td>\n    </tr>\n    <tr>\n      <th>17</th>\n      <td>P1</td>\n      <td>Airport status/hours</td>\n      <td>Airport Closed, Airport operating hours, AD AP...</td>\n    </tr>\n    <tr>\n      <th>18</th>\n      <td>P2</td>\n      <td>Airport restriction</td>\n      <td>Not available as alternate, airport slots, PPR...</td>\n    </tr>\n    <tr>\n      <th>19</th>\n      <td>P3</td>\n      <td>Fire &amp; Rescue</td>\n      <td>RFF Category change, Rescue equipment</td>\n    </tr>\n    <tr>\n      <th>20</th>\n      <td>P4</td>\n      <td>Fuel</td>\n      <td>All fuel related NOTAMs, JET, JETA1, Avgas, Hy...</td>\n    </tr>\n    <tr>\n      <th>21</th>\n      <td>P5</td>\n      <td>Apron &amp; Parking</td>\n      <td>Apron, Stands, Gates, Followme, Apron lighting...</td>\n    </tr>\n    <tr>\n      <th>22</th>\n      <td>P6</td>\n      <td>Airport Facilities</td>\n      <td>Equipment (GSE, Rwy/Twy equip, WDI etc.), Faci...</td>\n    </tr>\n    <tr>\n      <th>23</th>\n      <td>P7</td>\n      <td>Airport Procedure</td>\n      <td>Manoeuvring, Handling, Deboarding, APU usage e...</td>\n    </tr>\n    <tr>\n      <th>24</th>\n      <td>P8</td>\n      <td>WIP &amp; Construction</td>\n      <td>Work in Progress, WIP, Construction, Building ...</td>\n    </tr>\n    <tr>\n      <th>29</th>\n      <td>A1</td>\n      <td>Approach not available</td>\n      <td>Instrument approach not available, suspended e...</td>\n    </tr>\n    <tr>\n      <th>30</th>\n      <td>A2</td>\n      <td>Approach degraded</td>\n      <td>Some part of ILS not working, no cirlcing, min...</td>\n    </tr>\n    <tr>\n      <th>31</th>\n      <td>A3</td>\n      <td>Approach change</td>\n      <td>Chart change, Missed approach, RVR minina</td>\n    </tr>\n    <tr>\n      <th>36</th>\n      <td>R1</td>\n      <td>Runway closed</td>\n      <td>Runway Closed/Hours</td>\n    </tr>\n    <tr>\n      <th>37</th>\n      <td>R2</td>\n      <td>Runway length</td>\n      <td>TODA, TORA, ASDA, LDA changed, Displaced THR, ...</td>\n    </tr>\n    <tr>\n      <th>38</th>\n      <td>R3</td>\n      <td>Runway strength</td>\n      <td>Runway PCN change, weight restriction.</td>\n    </tr>\n    <tr>\n      <th>39</th>\n      <td>R4</td>\n      <td>Runway lights</td>\n      <td>Including ALS/Approach lights, Stopbars, PAPI,...</td>\n    </tr>\n    <tr>\n      <th>40</th>\n      <td>R5</td>\n      <td>Runway condition</td>\n      <td>Poor suface, potholes, ungrooved, FOD, contami...</td>\n    </tr>\n    <tr>\n      <th>41</th>\n      <td>R6</td>\n      <td>Runway note</td>\n      <td>Eg. Runway for Arrivals/Departures only, any o...</td>\n    </tr>\n    <tr>\n      <th>46</th>\n      <td>T1</td>\n      <td>Taxiway closed</td>\n      <td>TWY closed, All taxiway closures.</td>\n    </tr>\n    <tr>\n      <th>47</th>\n      <td>T2</td>\n      <td>Taxiway restriction</td>\n      <td>Taxiway limited to specific aircraft weight/MT...</td>\n    </tr>\n    <tr>\n      <th>48</th>\n      <td>T3</td>\n      <td>Taxiway lights</td>\n      <td>TWY taxiway Lights</td>\n    </tr>\n    <tr>\n      <th>49</th>\n      <td>T4</td>\n      <td>Taxiway condition</td>\n      <td>Poor surface, potholes</td>\n    </tr>\n    <tr>\n      <th>50</th>\n      <td>T5</td>\n      <td>Taxiway note</td>\n      <td>Taxiway Signs, markings, New named, new taxiwa...</td>\n    </tr>\n    <tr>\n      <th>55</th>\n      <td>N1</td>\n      <td>Navaid status</td>\n      <td>Navaids like VOR, NDB, TACAN. U/S, downgraded.</td>\n    </tr>\n    <tr>\n      <th>56</th>\n      <td>N2</td>\n      <td>Arrival</td>\n      <td>STAR (Standard Instrument Arrival), any change...</td>\n    </tr>\n    <tr>\n      <th>57</th>\n      <td>N3</td>\n      <td>Departure</td>\n      <td>SID, SID not avbl. change, any changes to depa...</td>\n    </tr>\n    <tr>\n      <th>58</th>\n      <td>N4</td>\n      <td>GPS</td>\n      <td>GPS outages, GPS jamming, RAIM, GNSS, EGNOS, WAAS</td>\n    </tr>\n    <tr>\n      <th>63</th>\n      <td>S1</td>\n      <td>Route closed</td>\n      <td>Airway, ATS Route closed</td>\n    </tr>\n    <tr>\n      <th>64</th>\n      <td>S2</td>\n      <td>Route restriction</td>\n      <td>Airway, ATS Route Open but some restriction</td>\n    </tr>\n    <tr>\n      <th>65</th>\n      <td>S3</td>\n      <td>Route changed</td>\n      <td>Change to ATS Route, Airway definition</td>\n    </tr>\n    <tr>\n      <th>66</th>\n      <td>S4</td>\n      <td>Special Use Airspace</td>\n      <td>SUA's - Danger, Prohibited, Restricted, TRA</td>\n    </tr>\n    <tr>\n      <th>67</th>\n      <td>S5</td>\n      <td>Special Routes</td>\n      <td>Conditional routes. CDR open/closed. CDR1, CDR...</td>\n    </tr>\n    <tr>\n      <th>68</th>\n      <td>S6</td>\n      <td>Airspace structure</td>\n      <td>Change to specific area, eg. CTR, TMA, FIR, co...</td>\n    </tr>\n    <tr>\n      <th>73</th>\n      <td>H1</td>\n      <td>Aircraft activity</td>\n      <td>Air Display, Aerobatics, Balloon or Kite, Exer...</td>\n    </tr>\n    <tr>\n      <th>74</th>\n      <td>H2</td>\n      <td>Explosives</td>\n      <td>Fireworks, Blasting, Demolition of explosives,...</td>\n    </tr>\n    <tr>\n      <th>75</th>\n      <td>H3</td>\n      <td>Missile, Gun or Rocket Firing</td>\n      <td>Military exercises involving any firing activity</td>\n    </tr>\n    <tr>\n      <th>76</th>\n      <td>H4</td>\n      <td>Obstacle - New</td>\n      <td>OBST Newly erected Obstacle, Crane, Wind Farm,...</td>\n    </tr>\n    <tr>\n      <th>77</th>\n      <td>H5</td>\n      <td>Obstacle - Light out</td>\n      <td>OBST Lights not working u/s Obstacle, Crane, W...</td>\n    </tr>\n    <tr>\n      <th>78</th>\n      <td>H6</td>\n      <td>Wildlife</td>\n      <td>Birds, animals</td>\n    </tr>\n    <tr>\n      <th>83</th>\n      <td>L1</td>\n      <td>Trigger Notam</td>\n      <td>Trigger Notam pointing to AIRAC change, AIC Su...</td>\n    </tr>\n    <tr>\n      <th>84</th>\n      <td>L2</td>\n      <td>Checklist NOTAM</td>\n      <td>Q-KKKK/Checklist of valid NOTAMs</td>\n    </tr>\n    <tr>\n      <th>85</th>\n      <td>L3</td>\n      <td>AIP Change</td>\n      <td>Change to AIP. Use also for AIC related NOTAM</td>\n    </tr>\n    <tr>\n      <th>86</th>\n      <td>L4</td>\n      <td>AIP Chart Change</td>\n      <td>Small chart change ie not AIP, including enrou...</td>\n    </tr>\n    <tr>\n      <th>87</th>\n      <td>L5</td>\n      <td>Flight Planning</td>\n      <td>Flight planning requirements, Field 18 of FPL</td>\n    </tr>\n    <tr>\n      <th>88</th>\n      <td>L6</td>\n      <td>State Rule</td>\n      <td>National notices, Covid rules, Turkey-Greece n...</td>\n    </tr>\n    <tr>\n      <th>89</th>\n      <td>L7</td>\n      <td>Security warnings</td>\n      <td>Risk warnings, Conflict Zones, Security relate...</td>\n    </tr>\n  </tbody>\n</table>\n</div>"
     },
     "execution_count": 65,
     "metadata": {},
     "output_type": "execute_result"
    }
   ],
   "source": [
    "tags.drop(columns=[tags.columns[0], tags.columns[3]], axis=1, inplace=True)\n",
    "tags.dropna(how='any', inplace=True)\n",
    "tags"
   ],
   "metadata": {
    "collapsed": false,
    "ExecuteTime": {
     "end_time": "2023-05-13T04:16:36.537638Z",
     "start_time": "2023-05-13T04:16:36.533336Z"
    }
   }
  },
  {
   "cell_type": "code",
   "execution_count": null,
   "outputs": [],
   "source": [
    "# build notam tags model to persist\n",
    "NOTAMTags = []\n",
    "for index, row in tags.iterrows():\n",
    "    print(row[0], row[1], row[2])\n",
    "    NOTAMTags.append(NOTAMTag(level=row[0], tag=row[1], description=row[2]))"
   ],
   "metadata": {
    "collapsed": false
   }
  },
  {
   "cell_type": "code",
   "execution_count": null,
   "outputs": [],
   "source": [
    "# save the tags to MySQL\n",
    "with Session(engine.get_engine(), expire_on_commit=False) as session:\n",
    "    session.add_all(NOTAMTags)\n",
    "    session.commit()"
   ],
   "metadata": {
    "collapsed": false
   }
  },
  {
   "cell_type": "code",
   "execution_count": 79,
   "outputs": [
    {
     "name": "stdout",
     "output_type": "stream",
     "text": [
      "2023-05-13 12:25:08,405 INFO sqlalchemy.engine.Engine BEGIN (implicit)\n"
     ]
    },
    {
     "name": "stderr",
     "output_type": "stream",
     "text": [
      "INFO:sqlalchemy.engine.Engine:BEGIN (implicit)\n"
     ]
    },
    {
     "name": "stdout",
     "output_type": "stream",
     "text": [
      "2023-05-13 12:25:08,406 INFO sqlalchemy.engine.Engine SELECT notam_tag.id AS notam_tag_id, notam_tag.level AS notam_tag_level, notam_tag.tag AS notam_tag_tag, notam_tag.description AS notam_tag_description, notam_tag.class_name AS notam_tag_class_name \n",
      "FROM notam_tag \n",
      " LIMIT %(param_1)s\n"
     ]
    },
    {
     "name": "stderr",
     "output_type": "stream",
     "text": [
      "INFO:sqlalchemy.engine.Engine:SELECT notam_tag.id AS notam_tag_id, notam_tag.level AS notam_tag_level, notam_tag.tag AS notam_tag_tag, notam_tag.description AS notam_tag_description, notam_tag.class_name AS notam_tag_class_name \n",
      "FROM notam_tag \n",
      " LIMIT %(param_1)s\n"
     ]
    },
    {
     "name": "stdout",
     "output_type": "stream",
     "text": [
      "2023-05-13 12:25:08,407 INFO sqlalchemy.engine.Engine [cached since 113.9s ago] {'param_1': 1}\n"
     ]
    },
    {
     "name": "stderr",
     "output_type": "stream",
     "text": [
      "INFO:sqlalchemy.engine.Engine:[cached since 113.9s ago] {'param_1': 1}\n"
     ]
    },
    {
     "name": "stdout",
     "output_type": "stream",
     "text": [
      "<persist.notam.NOTAMTag object at 0x1206a4250>\n",
      "2023-05-13 12:25:08,520 INFO sqlalchemy.engine.Engine ROLLBACK\n"
     ]
    },
    {
     "name": "stderr",
     "output_type": "stream",
     "text": [
      "INFO:sqlalchemy.engine.Engine:ROLLBACK\n"
     ]
    }
   ],
   "source": [
    "with Session(engine.get_engine()) as session:\n",
    "    tag = session.query(NOTAMTag).first()\n",
    "    print(tag)"
   ],
   "metadata": {
    "collapsed": false,
    "ExecuteTime": {
     "end_time": "2023-05-13T04:25:08.749586Z",
     "start_time": "2023-05-13T04:25:08.290918Z"
    }
   }
  }
 ],
 "metadata": {
  "kernelspec": {
   "display_name": "Python 3",
   "language": "python",
   "name": "python3"
  },
  "language_info": {
   "codemirror_mode": {
    "name": "ipython",
    "version": 2
   },
   "file_extension": ".py",
   "mimetype": "text/x-python",
   "name": "python",
   "nbconvert_exporter": "python",
   "pygments_lexer": "ipython2",
   "version": "2.7.6"
  }
 },
 "nbformat": 4,
 "nbformat_minor": 0
}
