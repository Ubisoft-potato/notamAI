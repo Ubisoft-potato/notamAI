{
 "cells": [
  {
   "cell_type": "markdown",
   "source": [
    "## Setup MySQL connection"
   ],
   "metadata": {
    "collapsed": false
   }
  },
  {
   "cell_type": "code",
   "execution_count": 2,
   "metadata": {
    "collapsed": true,
    "ExecuteTime": {
     "end_time": "2023-05-18T08:34:19.471855Z",
     "start_time": "2023-05-18T08:34:19.441383Z"
    }
   },
   "outputs": [
    {
     "data": {
      "text/plain": "True"
     },
     "execution_count": 2,
     "metadata": {},
     "output_type": "execute_result"
    }
   ],
   "source": [
    "import dotenv\n",
    "import pandas as pd\n",
    "import requests\n",
    "from sqlalchemy.orm import Session\n",
    "\n",
    "from persist.mysql import *\n",
    "# import to create table\n",
    "from persist.notam import *\n",
    "\n",
    "dotenv.load_dotenv(\"../.env\")"
   ]
  },
  {
   "cell_type": "code",
   "execution_count": 3,
   "outputs": [
    {
     "name": "stdout",
     "output_type": "stream",
     "text": [
      "2023-05-18 16:34:26,004 INFO sqlalchemy.engine.Engine SELECT DATABASE()\n"
     ]
    },
    {
     "name": "stderr",
     "output_type": "stream",
     "text": [
      "INFO:sqlalchemy.engine.Engine:SELECT DATABASE()\n"
     ]
    },
    {
     "name": "stdout",
     "output_type": "stream",
     "text": [
      "2023-05-18 16:34:26,008 INFO sqlalchemy.engine.Engine [raw sql] {}\n"
     ]
    },
    {
     "name": "stderr",
     "output_type": "stream",
     "text": [
      "INFO:sqlalchemy.engine.Engine:[raw sql] {}\n"
     ]
    },
    {
     "name": "stdout",
     "output_type": "stream",
     "text": [
      "2023-05-18 16:34:26,611 INFO sqlalchemy.engine.Engine SELECT @@sql_mode\n"
     ]
    },
    {
     "name": "stderr",
     "output_type": "stream",
     "text": [
      "INFO:sqlalchemy.engine.Engine:SELECT @@sql_mode\n"
     ]
    },
    {
     "name": "stdout",
     "output_type": "stream",
     "text": [
      "2023-05-18 16:34:26,613 INFO sqlalchemy.engine.Engine [raw sql] {}\n"
     ]
    },
    {
     "name": "stderr",
     "output_type": "stream",
     "text": [
      "INFO:sqlalchemy.engine.Engine:[raw sql] {}\n"
     ]
    },
    {
     "name": "stdout",
     "output_type": "stream",
     "text": [
      "2023-05-18 16:34:26,917 INFO sqlalchemy.engine.Engine SELECT @@lower_case_table_names\n"
     ]
    },
    {
     "name": "stderr",
     "output_type": "stream",
     "text": [
      "INFO:sqlalchemy.engine.Engine:SELECT @@lower_case_table_names\n"
     ]
    },
    {
     "name": "stdout",
     "output_type": "stream",
     "text": [
      "2023-05-18 16:34:26,919 INFO sqlalchemy.engine.Engine [raw sql] {}\n"
     ]
    },
    {
     "name": "stderr",
     "output_type": "stream",
     "text": [
      "INFO:sqlalchemy.engine.Engine:[raw sql] {}\n"
     ]
    },
    {
     "name": "stdout",
     "output_type": "stream",
     "text": [
      "2023-05-18 16:34:27,533 INFO sqlalchemy.engine.Engine BEGIN (implicit)\n"
     ]
    },
    {
     "name": "stderr",
     "output_type": "stream",
     "text": [
      "INFO:sqlalchemy.engine.Engine:BEGIN (implicit)\n"
     ]
    },
    {
     "name": "stdout",
     "output_type": "stream",
     "text": [
      "2023-05-18 16:34:27,535 INFO sqlalchemy.engine.Engine DESCRIBE `notam_ai`.`notam`\n"
     ]
    },
    {
     "name": "stderr",
     "output_type": "stream",
     "text": [
      "INFO:sqlalchemy.engine.Engine:DESCRIBE `notam_ai`.`notam`\n"
     ]
    },
    {
     "name": "stdout",
     "output_type": "stream",
     "text": [
      "2023-05-18 16:34:27,537 INFO sqlalchemy.engine.Engine [raw sql] {}\n"
     ]
    },
    {
     "name": "stderr",
     "output_type": "stream",
     "text": [
      "INFO:sqlalchemy.engine.Engine:[raw sql] {}\n"
     ]
    },
    {
     "name": "stdout",
     "output_type": "stream",
     "text": [
      "2023-05-18 16:34:27,839 INFO sqlalchemy.engine.Engine DESCRIBE `notam_ai`.`notam_tag`\n"
     ]
    },
    {
     "name": "stderr",
     "output_type": "stream",
     "text": [
      "INFO:sqlalchemy.engine.Engine:DESCRIBE `notam_ai`.`notam_tag`\n"
     ]
    },
    {
     "name": "stdout",
     "output_type": "stream",
     "text": [
      "2023-05-18 16:34:27,840 INFO sqlalchemy.engine.Engine [raw sql] {}\n"
     ]
    },
    {
     "name": "stderr",
     "output_type": "stream",
     "text": [
      "INFO:sqlalchemy.engine.Engine:[raw sql] {}\n"
     ]
    },
    {
     "name": "stdout",
     "output_type": "stream",
     "text": [
      "2023-05-18 16:34:28,146 INFO sqlalchemy.engine.Engine COMMIT\n"
     ]
    },
    {
     "name": "stderr",
     "output_type": "stream",
     "text": [
      "INFO:sqlalchemy.engine.Engine:COMMIT\n"
     ]
    }
   ],
   "source": [
    "engine = MySQLEngine()"
   ],
   "metadata": {
    "collapsed": false,
    "ExecuteTime": {
     "end_time": "2023-05-18T08:34:28.769181Z",
     "start_time": "2023-05-18T08:34:20.307763Z"
    }
   }
  },
  {
   "cell_type": "code",
   "execution_count": null,
   "outputs": [],
   "source": [
    "# create the tables\n",
    "Base.metadata.create_all(engine.get_engine())"
   ],
   "metadata": {
    "collapsed": false
   }
  },
  {
   "cell_type": "markdown",
   "source": [
    "## Get the NOTAMS from API"
   ],
   "metadata": {
    "collapsed": false
   }
  },
  {
   "cell_type": "code",
   "execution_count": null,
   "outputs": [],
   "source": [
    "locations = \"ELLX,LFPG,EHAM\"\n",
    "\n",
    "notam_url = f\"http://api.anbdata.com/anb/states/notams/notams-realtime-list?api_key={os.getenv('NOTAM_API_KEY')}&locations={locations}\""
   ],
   "metadata": {
    "collapsed": false
   }
  },
  {
   "cell_type": "code",
   "execution_count": null,
   "outputs": [],
   "source": [
    "res = requests.get(notam_url).json()\n",
    "len(res)"
   ],
   "metadata": {
    "collapsed": false
   }
  },
  {
   "cell_type": "code",
   "execution_count": null,
   "outputs": [],
   "source": [
    "top20 = res[:20]\n",
    "notams = [NOTAM(notam_id=notam['id'],\n",
    "                message=notam['message'],\n",
    "                location=notam['location']) for notam in top20]"
   ],
   "metadata": {
    "collapsed": false
   }
  },
  {
   "cell_type": "code",
   "execution_count": null,
   "outputs": [],
   "source": [
    "print(f'notam_id: {notams[1].notam_id}\\n'\n",
    "      f'message: {notams[1].message}\\n'\n",
    "      f'location: {notams[1].location}')"
   ],
   "metadata": {
    "collapsed": false
   }
  },
  {
   "cell_type": "markdown",
   "source": [
    "## Persist the NOTAMs to MySQL"
   ],
   "metadata": {
    "collapsed": false
   }
  },
  {
   "cell_type": "code",
   "execution_count": null,
   "outputs": [],
   "source": [
    "with Session(engine.get_engine()) as session:\n",
    "    session.add_all(notams)"
   ],
   "metadata": {
    "collapsed": false
   }
  },
  {
   "cell_type": "code",
   "execution_count": null,
   "outputs": [],
   "source": [
    "with Session(engine.get_engine()) as session:\n",
    "    notam = session.query(NOTAM).first()\n",
    "    print(notam)"
   ],
   "metadata": {
    "collapsed": false
   }
  },
  {
   "cell_type": "markdown",
   "source": [
    "## Process the CSV Tags and persist to MySQL"
   ],
   "metadata": {
    "collapsed": false
   }
  },
  {
   "cell_type": "code",
   "execution_count": null,
   "outputs": [],
   "source": [
    "tags = pd.read_csv('../data/tags.csv')\n",
    "tags.head(20)"
   ],
   "metadata": {
    "collapsed": false
   }
  },
  {
   "cell_type": "code",
   "execution_count": null,
   "outputs": [],
   "source": [
    "tags.drop(columns=[tags.columns[0], tags.columns[3]], axis=1, inplace=True)\n",
    "tags.dropna(how='any', inplace=True)\n",
    "tags"
   ],
   "metadata": {
    "collapsed": false
   }
  },
  {
   "cell_type": "code",
   "execution_count": null,
   "outputs": [],
   "source": [
    "# build notam tags model to persist\n",
    "NOTAMTags = []\n",
    "for index, row in tags.iterrows():\n",
    "    print(row[0], row[1], row[2])\n",
    "    NOTAMTags.append(NOTAMTag(level=row[0], tag=row[1], description=row[2]))"
   ],
   "metadata": {
    "collapsed": false
   }
  },
  {
   "cell_type": "code",
   "execution_count": null,
   "outputs": [],
   "source": [
    "# save the tags to MySQL\n",
    "with Session(engine.get_engine(), expire_on_commit=False) as session:\n",
    "    session.add_all(NOTAMTags)\n",
    "    session.commit()"
   ],
   "metadata": {
    "collapsed": false
   }
  },
  {
   "cell_type": "code",
   "execution_count": null,
   "outputs": [],
   "source": [
    "with Session(engine.get_engine()) as session:\n",
    "    tag = session.query(NOTAMTag).first()\n",
    "    print(tag)"
   ],
   "metadata": {
    "collapsed": false
   }
  },
  {
   "cell_type": "markdown",
   "source": [
    "## LangChain LLM Integration"
   ],
   "metadata": {
    "collapsed": false
   }
  },
  {
   "cell_type": "code",
   "execution_count": 3,
   "outputs": [],
   "source": [
    "from langchain import LLMChain\n",
    "from langchain.chat_models import ChatOpenAI\n",
    "from langchain.prompts.chat import (\n",
    "    ChatPromptTemplate,\n",
    "    AIMessage,\n",
    "    SystemMessage,\n",
    "    HumanMessagePromptTemplate\n",
    ")"
   ],
   "metadata": {
    "collapsed": false,
    "ExecuteTime": {
     "end_time": "2023-05-18T06:58:33.357253Z",
     "start_time": "2023-05-18T06:58:30.611246Z"
    }
   }
  },
  {
   "cell_type": "markdown",
   "source": [
    "## Try setup Tags as System prompts\n",
    "Chat Models takes a list of chat messages as input - this list commonly referred to as a prompt. These chat messages differ from raw string (which you would pass into a LLM model) in that every message is associated with a role."
   ],
   "metadata": {
    "collapsed": false
   }
  },
  {
   "cell_type": "code",
   "execution_count": 12,
   "outputs": [],
   "source": [
    "librarian_prompt = SystemMessage(\n",
    "    content=\"You are a NOTAM Librarian. I will give you a series of NOTAM messages and a list of NOTAM Tags.\"\n",
    "            \"For each series of NOTAM's, create a beautiful table with the columns below. \"\n",
    "            \"Each NOTAM should be on one row.Columns:\"\n",
    "            \"A. **NOTAM** - NOTAM ICAO code and ID. Add one asterisk (*) before and after the NOTAM.\"\n",
    "            \"B. **Explained** - In very simple English only, explain the NOTAM in 4 words or less. Do not use abbreviations. Use sentence case.\"\n",
    "            \"C. **Tag**. Choose the most logical Tag for this NOTAM from the list of Tags. Format as Tag Code - Tag Name. \"\n",
    "            \"Add two asterisks (**) before and after the Tag.\")\n",
    "\n",
    "notam_tags_message = HumanMessagePromptTemplate.from_template(\"List of NOTAM Tags,in three columns:\\n\"\n",
    "                                                              \"Tag Code  Tag Name  Tag Description\\n\"\n",
    "                                                              \"{tags}\\n\"\n",
    "                                                              \"Read and wait, no action yet.\")\n",
    "ai_wait_resp = AIMessage(content=\"Understood. Waiting for the NOTAM messages.\")\n",
    "notam_messages = HumanMessagePromptTemplate.from_template(\"{notams}\")\n",
    "# build the LLMChain with the chat prompts\n",
    "notam_chat_prompt = ChatPromptTemplate.from_messages(\n",
    "    [librarian_prompt, notam_tags_message, ai_wait_resp, notam_messages])\n"
   ],
   "metadata": {
    "collapsed": false,
    "ExecuteTime": {
     "end_time": "2023-05-18T07:00:21.595584Z",
     "start_time": "2023-05-18T07:00:21.564894Z"
    }
   }
  },
  {
   "cell_type": "code",
   "execution_count": 6,
   "outputs": [
    {
     "name": "stdout",
     "output_type": "stream",
     "text": [
      "2023-05-18 14:59:15,336 INFO sqlalchemy.engine.Engine BEGIN (implicit)\n"
     ]
    },
    {
     "name": "stderr",
     "output_type": "stream",
     "text": [
      "INFO:sqlalchemy.engine.Engine:BEGIN (implicit)\n"
     ]
    },
    {
     "name": "stdout",
     "output_type": "stream",
     "text": [
      "2023-05-18 14:59:15,344 INFO sqlalchemy.engine.Engine SELECT notam_tag.id AS notam_tag_id, notam_tag.level AS notam_tag_level, notam_tag.tag AS notam_tag_tag, notam_tag.description AS notam_tag_description, notam_tag.class_name AS notam_tag_class_name \n",
      "FROM notam_tag\n"
     ]
    },
    {
     "name": "stderr",
     "output_type": "stream",
     "text": [
      "INFO:sqlalchemy.engine.Engine:SELECT notam_tag.id AS notam_tag_id, notam_tag.level AS notam_tag_level, notam_tag.tag AS notam_tag_tag, notam_tag.description AS notam_tag_description, notam_tag.class_name AS notam_tag_class_name \n",
      "FROM notam_tag\n"
     ]
    },
    {
     "name": "stdout",
     "output_type": "stream",
     "text": [
      "2023-05-18 14:59:15,347 INFO sqlalchemy.engine.Engine [generated in 0.00379s] {}\n"
     ]
    },
    {
     "name": "stderr",
     "output_type": "stream",
     "text": [
      "INFO:sqlalchemy.engine.Engine:[generated in 0.00379s] {}\n"
     ]
    },
    {
     "name": "stdout",
     "output_type": "stream",
     "text": [
      "2023-05-18 14:59:15,648 INFO sqlalchemy.engine.Engine ROLLBACK\n"
     ]
    },
    {
     "name": "stderr",
     "output_type": "stream",
     "text": [
      "INFO:sqlalchemy.engine.Engine:ROLLBACK\n"
     ]
    }
   ],
   "source": [
    "# query the tags from MySQL\n",
    "with Session(engine.get_engine()) as session:\n",
    "    notam_tags = session.query(NOTAMTag).all()"
   ],
   "metadata": {
    "collapsed": false,
    "ExecuteTime": {
     "end_time": "2023-05-18T06:59:16.086251Z",
     "start_time": "2023-05-18T06:59:15.080531Z"
    }
   }
  },
  {
   "cell_type": "code",
   "execution_count": 7,
   "outputs": [
    {
     "name": "stdout",
     "output_type": "stream",
     "text": [
      "C1 *ATC status/hours* ATC operating hours, ATC Strike, ATC failure (ATC Zero). Including FIS/AFIS\n",
      "C2 *ATC procedure* TWR/APP/ACC change of procedure, lost comms procedure, contingency, emergency, DCL departure clearance\n",
      "C3 *ATC flow and delay* Flow control, enroute delays, expect holding\n",
      "C4 *Radio* HF, VHF, CPDLC, Satcom, ATIS - u/s, freq changes etc. KHZ, MHZ.\n",
      "C5 *Radar & ADS* Radar (PSR, MSSR, SMR, PAR, TAR), ADS (ADS-B, ADS-C) & MLAT\n",
      "C6 *Met* Met service hours, VOLMET, Met Equipment, Met Strikes\n",
      "P1 *Airport status/hours* Airport Closed, Airport operating hours, AD AP not available\n",
      "P2 *Airport restriction* Not available as alternate, airport slots, PPR required, max aircraft weight, etc.\n",
      "P3 *Fire & Rescue* RFF Category change, Rescue equipment\n",
      "P4 *Fuel* All fuel related NOTAMs, JET, JETA1, Avgas, Hydrants, Tankering\n",
      "P5 *Apron & Parking* Apron, Stands, Gates, Followme, Apron lighting, docking, guidance, limited parking\n",
      "P6 *Airport Facilities* Equipment (GSE, Rwy/Twy equip, WDI etc.), Facilities Pax processing, Airport staff strike.\n",
      "P7 *Airport Procedure* Manoeuvring, Handling, Deboarding, APU usage etc. NABT and noise curfew\n",
      "P8 *WIP & Construction* Work in Progress, WIP, Construction, Building works, digging, men and equipment\n",
      "A1 *Approach not available* Instrument approach not available, suspended eg. ILS, VOR/DME approach, RNP approach, LPV.\n",
      "A2 *Approach degraded* Some part of ILS not working, no cirlcing, minima not available\n",
      "A3 *Approach change* Chart change, Missed approach, RVR minina\n",
      "R1 *Runway closed* Runway Closed/Hours\n",
      "R2 *Runway length* TODA, TORA, ASDA, LDA changed, Displaced THR, CWY, Width change.\n",
      "R3 *Runway strength* Runway PCN change, weight restriction.\n",
      "R4 *Runway lights* Including ALS/Approach lights, Stopbars, PAPI, VASI\n",
      "R5 *Runway condition* Poor suface, potholes, ungrooved, FOD, contamination (sand, ash), RWYCC\n",
      "R6 *Runway note* Eg. Runway for Arrivals/Departures only, any other minor changes, runway reopened. Runway markings go here too, signs changed, missing, obscured. Building turbulence (Windshear)\n",
      "T1 *Taxiway closed* TWY closed, All taxiway closures.\n",
      "T2 *Taxiway restriction* Taxiway limited to specific aircraft weight/MTOW, entry points, one-way taxiways\n",
      "T3 *Taxiway lights* TWY taxiway Lights\n",
      "T4 *Taxiway condition* Poor surface, potholes\n",
      "T5 *Taxiway note* Taxiway Signs, markings, New named, new taxiway, re-opened. \n",
      "N1 *Navaid status* Navaids like VOR, NDB, TACAN. U/S, downgraded.\n",
      "N2 *Arrival* STAR (Standard Instrument Arrival), any changes to arrival\n",
      "N3 *Departure* SID, SID not avbl. change, any changes to departures\n",
      "N4 *GPS* GPS outages, GPS jamming, RAIM, GNSS, EGNOS, WAAS\n",
      "S1 *Route closed* Airway, ATS Route closed\n",
      "S2 *Route restriction* Airway, ATS Route Open but some restriction\n",
      "S3 *Route changed* Change to ATS Route, Airway definition\n",
      "S4 *Special Use Airspace* SUA's - Danger, Prohibited, Restricted, TRA\n",
      "S5 *Special Routes* Conditional routes. CDR open/closed. CDR1, CDR2, CDR3. Track Systems: Prefered routing, flight level allocation scheme (FLAS), User Prefered Routings (UPR), AUSOTS, Pacific OTS, NAR, NAT Tracks\n",
      "S6 *Airspace structure* Change to specific area, eg. CTR, TMA, FIR, coordinates\n",
      "H1 *Aircraft activity* Air Display, Aerobatics, Balloon or Kite, Exercises, Air Refuelling, Glider, Paraglider, Hang Glider, Banner towing, Mass Movement of aircraft, Parachuting (PJE), Unmanned aircraft, Formation flight, Aerial Survey, Model Flying\n",
      "H2 *Explosives* Fireworks, Blasting, Demolition of explosives, Burning gas\n",
      "H3 *Missile, Gun or Rocket Firing* Military exercises involving any firing activity\n",
      "H4 *Obstacle - New* OBST Newly erected Obstacle, Crane, Wind Farm, Turbines, LIT OBST\n",
      "H5 *Obstacle - Light out* OBST Lights not working u/s Obstacle, Crane, Wind Farm, Turbines\n",
      "H6 *Wildlife* Birds, animals\n",
      "L1 *Trigger Notam* Trigger Notam pointing to AIRAC change, AIC Sup, etc.\n",
      "L2 *Checklist NOTAM* Q-KKKK/Checklist of valid NOTAMs\n",
      "L3 *AIP Change* Change to AIP. Use also for AIC related NOTAM\n",
      "L4 *AIP Chart Change* Small chart change ie not AIP, including enroute charts.\n",
      "L5 *Flight Planning* Flight planning requirements, Field 18 of FPL\n",
      "L6 *State Rule* National notices, Covid rules, Turkey-Greece notams\n",
      "L7 *Security warnings* Risk warnings, Conflict Zones, Security related NOTAM\n",
      "\n"
     ]
    }
   ],
   "source": [
    "tags_content = \"\"\n",
    "for tag in notam_tags:\n",
    "    tags_content += f\"{tag.level} *{tag.tag}* {tag.description}\\n\"\n",
    "\n",
    "print(tags_content)"
   ],
   "metadata": {
    "collapsed": false,
    "ExecuteTime": {
     "end_time": "2023-05-18T06:59:22.864386Z",
     "start_time": "2023-05-18T06:59:22.831632Z"
    }
   }
  },
  {
   "cell_type": "code",
   "execution_count": 8,
   "outputs": [
    {
     "name": "stdout",
     "output_type": "stream",
     "text": [
      "2023-05-18 14:59:32,339 INFO sqlalchemy.engine.Engine BEGIN (implicit)\n"
     ]
    },
    {
     "name": "stderr",
     "output_type": "stream",
     "text": [
      "INFO:sqlalchemy.engine.Engine:BEGIN (implicit)\n"
     ]
    },
    {
     "name": "stdout",
     "output_type": "stream",
     "text": [
      "2023-05-18 14:59:32,343 INFO sqlalchemy.engine.Engine SELECT notam.id AS notam_id_1, notam.notam_id AS notam_notam_id, notam.message AS notam_message, notam.location AS notam_location, notam.tag AS notam_tag, notam.summary AS notam_summary, notam.create_time AS notam_create_time, notam.update_time AS notam_update_time \n",
      "FROM notam \n",
      " LIMIT %(param_1)s, %(param_2)s\n"
     ]
    },
    {
     "name": "stderr",
     "output_type": "stream",
     "text": [
      "INFO:sqlalchemy.engine.Engine:SELECT notam.id AS notam_id_1, notam.notam_id AS notam_notam_id, notam.message AS notam_message, notam.location AS notam_location, notam.tag AS notam_tag, notam.summary AS notam_summary, notam.create_time AS notam_create_time, notam.update_time AS notam_update_time \n",
      "FROM notam \n",
      " LIMIT %(param_1)s, %(param_2)s\n"
     ]
    },
    {
     "name": "stdout",
     "output_type": "stream",
     "text": [
      "2023-05-18 14:59:32,344 INFO sqlalchemy.engine.Engine [generated in 0.00151s] {'param_1': 6, 'param_2': 10}\n"
     ]
    },
    {
     "name": "stderr",
     "output_type": "stream",
     "text": [
      "INFO:sqlalchemy.engine.Engine:[generated in 0.00151s] {'param_1': 6, 'param_2': 10}\n"
     ]
    },
    {
     "name": "stdout",
     "output_type": "stream",
     "text": [
      "2023-05-18 14:59:32,549 INFO sqlalchemy.engine.Engine ROLLBACK\n"
     ]
    },
    {
     "name": "stderr",
     "output_type": "stream",
     "text": [
      "INFO:sqlalchemy.engine.Engine:ROLLBACK\n"
     ]
    }
   ],
   "source": [
    "# query the notams from MySQL\n",
    "with Session(engine.get_engine()) as session:\n",
    "    notams = session.query(NOTAM).offset(6).limit(10).all()"
   ],
   "metadata": {
    "collapsed": false,
    "ExecuteTime": {
     "end_time": "2023-05-18T06:59:32.977157Z",
     "start_time": "2023-05-18T06:59:32.126926Z"
    }
   }
  },
  {
   "cell_type": "code",
   "execution_count": 9,
   "outputs": [
    {
     "name": "stdout",
     "output_type": "stream",
     "text": [
      "ELLX A1833/23 RWY 06/24 CLSD DUE TO WIP EXC FOR FLT WITH SPECIAL PERMISSION \n",
      "FROM ANA\n",
      "CREATED: 02 May 2023 09:33:00 \n",
      "SOURCE: EUECYIYN\n",
      "ELLX A1748/23 TWY D1 AND TWY D2, STOP BARS U/S DUE TO WIP.\n",
      "CREATED: 26 Apr 2023 14:55:00 \n",
      "SOURCE: EUECYIYN\n",
      "ELLX A1747/23 RWY 24 CAT II/III APPROACH LGT SWITCHED OFF DUE TO WIP.\n",
      "CREATED: 26 Apr 2023 14:53:00 \n",
      "SOURCE: EUECYIYN\n",
      "ELLX A1745/23 APRONS P5, P7, P10, CL LGT SWITCHED OFF DUE TO WIP.\n",
      "CREATED: 26 Apr 2023 14:50:00 \n",
      "SOURCE: EUECYIYN\n",
      "ELLX A1744/23 ALL TWYS, CL LGT SWITCHED OFF DUE TO WIP.\n",
      "CREATED: 26 Apr 2023 14:41:00 \n",
      "SOURCE: EUECYIYN\n",
      "ELLX A1742/23 RWY24, TDZ LGT SWITCHED OFF DUE TO WIP.\n",
      "CREATED: 26 Apr 2023 14:28:00 \n",
      "SOURCE: EUECYIYN\n",
      "ELLX A1741/23 RWY 06/24, RCLL SWITCHED OFF DUE TO WIP\n",
      "CREATED: 26 Apr 2023 14:15:00 \n",
      "SOURCE: EUECYIYN\n",
      "ELLX A1710/23 IFR TRAINING FLT NOT AUTH DUE TO CAPACITY REGULATIONS.\n",
      "REF AIP BELGIUM AND LUXEMBOURG AD 2.20 ELLX LOCAL AERODROME \n",
      "REGULATIONS PARA 5.7 TRAINING AND TEST FLIGHTS\n",
      "CREATED: 24 Apr 2023 20:00:00 \n",
      "SOURCE: EUECYIYN\n",
      "ELLX A1317/23 REF AIP BELGIUM AND LUXEMBOURG ELLX AD 2.22 PARAGRAPH 3.1\n",
      "STARTING PROCEDURES TO READ:\n",
      "ALL OUTBOUND FLIGHTS SHALL CHECK\n",
      "THEIR EOBT AND UPDATE VIA HANDLING OR ARO IF NECESSARY. IF CTOT\n",
      "CANNOT BE MET REQUEST DELAY VIA HANDLING OR ARO.\n",
      "PILOTS SHALL\n",
      "CHECK ATIS IN ORDER TO SEE IF LUXEMBOURG DELIVERY IS\n",
      "ACTIVE.\n",
      "-ALL OUTBOUND FLIGHTS CONTACT LUXEMBOURG DELIVERY.\n",
      "START-UP SHALL BE REQUESTED FROM LUXEMBOURG DELIVERY EOBT-15 MIN OR\n",
      "CTOT-30 MIN EARLIEST IF ATTRIBUTED AND READY TO PUSH-BACK AND/OR\n",
      "TAXI ACCORDINGLY. PILOTS SHALL REQUEST DEPARTURE CLEARANCE TO\n",
      "LUXEMBOURG DELIVERY AFTER START-UP HAS BEEN GRANTED BY LUXEMBOURG\n",
      "DELIVERY.\n",
      "-IF LUXEMBOURG DELIVERY CLOSED BY ATIS, START-UP SHALL\n",
      "BE REQUESTED FROM LUXEMBOURG TWR  EOBT-15 MIN OR CTOT-30 MIN\n",
      "EARLIEST IF ATTRIBUTED AND READY TO PUSH-BACK AND/OR TAXI\n",
      "IMMEDIATELY. PILOTS SHALL REQUEST THEIR DEPARTURE CLEARANCE AFTER\n",
      "START-UP HAS BEEN GRANTED BY TWR.\n",
      "ATC START-UP AND/OR PUSH-BACK\n",
      "CLEARANCES ARE BASED ON THE ASSUMPTION THAT AN AVERAGE OF 15 MIN IS\n",
      "REQUIRED FOR START-UP, PUSH-BACK, TAXI AND TAKE-OFF MANOEUVRES.\n",
      "PILOTS SHALL REPORT THEIR PARKING STAND WITH THE REQUEST FOR\n",
      "START-UP CLEARANCE. START-UP AND/OR PUSH-BACK SHALL BE PERFORMED\n",
      "WITHOUT DELAY AFTER RECEPTION OF THE RESPECTIVE CLEARANCE. AN ATC\n",
      "DEPARTURE CLEARANCE SHALL ONLY BE REQUESTED AFTER START-UP AND/OR\n",
      "PUSH-BACK HAS BEEN GRANTED BY ATC.\n",
      "CREATED: 05 Apr 2023 12:20:00 \n",
      "SOURCE: EUECYIYN\n",
      "ELLX A1316/23 REF AIP BELGIUM AND LUXEMBOURG ELLX AD 2.18 TO READ FOR TWR\n",
      "LUXEMBOURG DELIVERY:\n",
      "-HOURS OF OPERATION: HS\n",
      "-REMARKS:\n",
      "CLEARANCE DELIVERY 8.33 KHZ CH\n",
      "OPERATIONAL HOURS: 0500-2200\n",
      "(0400-2100)\n",
      "DOC: 5 NM - GND\n",
      "SEE ELLX AD 2.22, PARAGRAPHE 3.1\n",
      "CREATED: 05 Apr 2023 12:18:00 \n",
      "SOURCE: EUECYIYN\n",
      "\n"
     ]
    }
   ],
   "source": [
    "# build the notam messages\n",
    "notam_messages_to_ask = \"\"\n",
    "for notam in notams:\n",
    "    notam_messages_to_ask += f\"{notam.location} {notam.notam_id} {notam.message}\\n\"\n",
    "\n",
    "print(notam_messages_to_ask)"
   ],
   "metadata": {
    "collapsed": false,
    "ExecuteTime": {
     "end_time": "2023-05-18T06:59:34.086376Z",
     "start_time": "2023-05-18T06:59:34.062577Z"
    }
   }
  },
  {
   "cell_type": "code",
   "execution_count": 13,
   "outputs": [],
   "source": [
    "chat = ChatOpenAI(temperature=0)\n",
    "notam_chain = LLMChain(llm=chat,\n",
    "                       prompt=notam_chat_prompt)"
   ],
   "metadata": {
    "collapsed": false,
    "ExecuteTime": {
     "end_time": "2023-05-18T07:00:26.550676Z",
     "start_time": "2023-05-18T07:00:26.520737Z"
    }
   }
  },
  {
   "cell_type": "code",
   "execution_count": 35,
   "outputs": [],
   "source": [
    "response = chat(notam_chat_prompt.format_prompt(tags=tags_content, notams=notam_messages_to_ask).to_messages())"
   ],
   "metadata": {
    "collapsed": false,
    "ExecuteTime": {
     "end_time": "2023-05-14T02:17:58.220250Z",
     "start_time": "2023-05-14T02:17:46.615154Z"
    }
   }
  },
  {
   "cell_type": "code",
   "execution_count": 36,
   "outputs": [
    {
     "name": "stdout",
     "output_type": "stream",
     "text": [
      "| **NOTAM** | **Explained** | **Tag** |\n",
      "|-----------|---------------|----------|\n",
      "| *ELLX A1833/23* | Runway closed due to WIP | R1 - Runway closed |\n",
      "| *ELLX A1748/23* | Stop bars u/s due to WIP on TWY D1 and TWY D2 | T3 - Taxiway lights |\n",
      "| *ELLX A1747/23* | CAT II/III approach lights switched off due to WIP on RWY 24 | A4 - Runway lights |\n",
      "| *ELLX A1745/23* | Apron lights switched off due to WIP on P5, P7, P10 | P5 - Apron & Parking |\n",
      "| *ELLX A1744/23* | Centerline lights switched off due to WIP on all TWYs | T4 - Taxiway lights |\n",
      "| *ELLX A1742/23* | TDZ lights switched off due to WIP on RWY 24 | A4 - Runway lights |\n",
      "| *ELLX A1741/23* | Runway centerline lights switched off due to WIP on RWY 06/24 | A4 - Runway lights |\n",
      "| *ELLX A1710/23* | IFR training flights not authorized due to capacity regulations | P1 - Airport status/hours |\n",
      "| *ELLX A1317/23* | Outbound flights must check EOBT and update via handling or ARO if necessary | L5 - Flight Planning |\n",
      "| *ELLX A1316/23* | Clearance delivery operational hours for Luxembourg delivery | C1 - ATC status/hours |\n"
     ]
    }
   ],
   "source": [
    "print(response.content)"
   ],
   "metadata": {
    "collapsed": false,
    "ExecuteTime": {
     "end_time": "2023-05-14T02:18:02.767259Z",
     "start_time": "2023-05-14T02:18:02.760812Z"
    }
   }
  },
  {
   "cell_type": "markdown",
   "source": [
    "| **NOTAM** | **Explained** | **Tag** |\n",
    "|-----------|---------------|----------|\n",
    "| *ELLX A1833/23* | Runway closed due to WIP | R1 - Runway closed |\n",
    "| *ELLX A1748/23* | Stop bars u/s due to WIP on TWY D1 and TWY D2 | T3 - Taxiway lights |\n",
    "| *ELLX A1747/23* | CAT II/III approach lights switched off due to WIP on RWY 24 | A4 - Runway lights |\n",
    "| *ELLX A1745/23* | Apron lights switched off due to WIP on P5, P7, P10 | P5 - Apron & Parking |\n",
    "| *ELLX A1744/23* | Centerline lights switched off due to WIP on all TWYs | T4 - Taxiway lights |\n",
    "| *ELLX A1742/23* | TDZ lights switched off due to WIP on RWY 24 | A4 - Runway lights |\n",
    "| *ELLX A1741/23* | Runway centerline lights switched off due to WIP on RWY 06/24 | A4 - Runway lights |\n",
    "| *ELLX A1710/23* | IFR training flights not authorized due to capacity regulations | P1 - Airport status/hours |\n",
    "| *ELLX A1317/23* | Outbound flights must check EOBT and update via handling or ARO if necessary | L5 - Flight Planning |\n",
    "| *ELLX A1316/23* | Clearance delivery operational hours for Luxembourg delivery | C1 - ATC status/hours |"
   ],
   "metadata": {
    "collapsed": false
   }
  },
  {
   "cell_type": "code",
   "execution_count": 16,
   "outputs": [],
   "source": [
    "notam_table = notam_chain.run({\n",
    "    \"tags\": tags_content,\n",
    "    \"notams\": notam_messages_to_ask\n",
    "})"
   ],
   "metadata": {
    "collapsed": false,
    "ExecuteTime": {
     "end_time": "2023-05-18T07:02:31.842304Z",
     "start_time": "2023-05-18T07:01:50.511724Z"
    }
   }
  },
  {
   "cell_type": "code",
   "execution_count": 15,
   "outputs": [
    {
     "name": "stdout",
     "output_type": "stream",
     "text": [
      "| **NOTAM** | **Explained** | **Tag** |\n",
      "|-----------|---------------|----------|\n",
      "| *ELLX A1833/23* | Runway closed due to WIP | R1 - Runway closed |\n",
      "| *ELLX A1748/23* | Stop bars u/s due to WIP on TWY D1 and TWY D2 | T4 - Taxiway lights |\n",
      "| *ELLX A1747/23* | CAT II/III approach lights switched off due to WIP on RWY 24 | A4 - Approach lights |\n",
      "| *ELLX A1745/23* | Apron lights switched off due to WIP on P5, P7, P10 | P5 - Apron & Parking |\n",
      "| *ELLX A1744/23* | All taxiway centerline lights switched off due to WIP | T4 - Taxiway lights |\n",
      "| *ELLX A1742/23* | TDZ lights switched off due to WIP on RWY 24 | A4 - Approach lights |\n",
      "| *ELLX A1741/23* | Runway centerline lights switched off due to WIP on RWY 06/24 | R4 - Runway lights |\n",
      "| *ELLX A1710/23* | IFR training flights not authorized due to capacity regulations | C2 - ATC procedure |\n",
      "| *ELLX A1317/23* | Outbound flights must check EOBT and update via handling or ARO | L5 - Flight Planning |\n",
      "| *ELLX A1316/23* | Clearance delivery operational hours for Luxembourg delivery | C1 - ATC status/hours |\n"
     ]
    }
   ],
   "source": [
    "print(notam_table)"
   ],
   "metadata": {
    "collapsed": false,
    "ExecuteTime": {
     "end_time": "2023-05-18T07:01:25.653309Z",
     "start_time": "2023-05-18T07:01:25.549842Z"
    }
   }
  },
  {
   "cell_type": "markdown",
   "source": [
    "# Speed Improvements Research"
   ],
   "metadata": {
    "collapsed": false
   }
  },
  {
   "cell_type": "code",
   "execution_count": 1,
   "outputs": [],
   "source": [
    "from app import *"
   ],
   "metadata": {
    "collapsed": false,
    "ExecuteTime": {
     "end_time": "2023-05-18T08:32:52.286754Z",
     "start_time": "2023-05-18T08:32:47.713072Z"
    }
   }
  },
  {
   "cell_type": "code",
   "execution_count": 4,
   "outputs": [
    {
     "name": "stdout",
     "output_type": "stream",
     "text": [
      "2023-05-18 16:34:49,067 INFO sqlalchemy.engine.Engine BEGIN (implicit)\n"
     ]
    },
    {
     "name": "stderr",
     "output_type": "stream",
     "text": [
      "INFO:sqlalchemy.engine.Engine:BEGIN (implicit)\n"
     ]
    },
    {
     "name": "stdout",
     "output_type": "stream",
     "text": [
      "2023-05-18 16:34:49,073 INFO sqlalchemy.engine.Engine SELECT notam_tag.id AS notam_tag_id, notam_tag.level AS notam_tag_level, notam_tag.tag AS notam_tag_tag, notam_tag.description AS notam_tag_description, notam_tag.class_name AS notam_tag_class_name \n",
      "FROM notam_tag\n"
     ]
    },
    {
     "name": "stderr",
     "output_type": "stream",
     "text": [
      "INFO:sqlalchemy.engine.Engine:SELECT notam_tag.id AS notam_tag_id, notam_tag.level AS notam_tag_level, notam_tag.tag AS notam_tag_tag, notam_tag.description AS notam_tag_description, notam_tag.class_name AS notam_tag_class_name \n",
      "FROM notam_tag\n"
     ]
    },
    {
     "name": "stdout",
     "output_type": "stream",
     "text": [
      "2023-05-18 16:34:49,075 INFO sqlalchemy.engine.Engine [generated in 0.00169s] {}\n"
     ]
    },
    {
     "name": "stderr",
     "output_type": "stream",
     "text": [
      "INFO:sqlalchemy.engine.Engine:[generated in 0.00169s] {}\n"
     ]
    },
    {
     "name": "stdout",
     "output_type": "stream",
     "text": [
      "2023-05-18 16:34:49,357 INFO sqlalchemy.engine.Engine ROLLBACK\n"
     ]
    },
    {
     "name": "stderr",
     "output_type": "stream",
     "text": [
      "INFO:sqlalchemy.engine.Engine:ROLLBACK\n"
     ]
    }
   ],
   "source": [
    "notam_llm_chat = NOTAMLLMChat()\n",
    "notam_tags = get_list_of_tags(engine.get_engine())\n"
   ],
   "metadata": {
    "collapsed": false,
    "ExecuteTime": {
     "end_time": "2023-05-18T08:34:49.947926Z",
     "start_time": "2023-05-18T08:34:48.486430Z"
    }
   }
  },
  {
   "cell_type": "code",
   "execution_count": 9,
   "outputs": [
    {
     "name": "stdout",
     "output_type": "stream",
     "text": [
      "2023-05-18 16:46:06,070 INFO sqlalchemy.engine.Engine BEGIN (implicit)\n"
     ]
    },
    {
     "name": "stderr",
     "output_type": "stream",
     "text": [
      "INFO:sqlalchemy.engine.Engine:BEGIN (implicit)\n"
     ]
    },
    {
     "name": "stdout",
     "output_type": "stream",
     "text": [
      "2023-05-18 16:46:06,075 INFO sqlalchemy.engine.Engine SELECT notam.id AS notam_id_1, notam.notam_id AS notam_notam_id, notam.message AS notam_message, notam.location AS notam_location, notam.tag AS notam_tag, notam.summary AS notam_summary, notam.create_time AS notam_create_time, notam.update_time AS notam_update_time \n",
      "FROM notam \n",
      "WHERE notam.notam_id IN (%(notam_id_1_1)s)\n"
     ]
    },
    {
     "name": "stderr",
     "output_type": "stream",
     "text": [
      "INFO:sqlalchemy.engine.Engine:SELECT notam.id AS notam_id_1, notam.notam_id AS notam_notam_id, notam.message AS notam_message, notam.location AS notam_location, notam.tag AS notam_tag, notam.summary AS notam_summary, notam.create_time AS notam_create_time, notam.update_time AS notam_update_time \n",
      "FROM notam \n",
      "WHERE notam.notam_id IN (%(notam_id_1_1)s)\n"
     ]
    },
    {
     "name": "stdout",
     "output_type": "stream",
     "text": [
      "2023-05-18 16:46:06,081 INFO sqlalchemy.engine.Engine [cached since 463.5s ago] {'notam_id_1_1': 'V0230/23'}\n"
     ]
    },
    {
     "name": "stderr",
     "output_type": "stream",
     "text": [
      "INFO:sqlalchemy.engine.Engine:[cached since 463.5s ago] {'notam_id_1_1': 'V0230/23'}\n"
     ]
    },
    {
     "name": "stdout",
     "output_type": "stream",
     "text": [
      "2023-05-18 16:46:06,342 INFO sqlalchemy.engine.Engine ROLLBACK\n"
     ]
    },
    {
     "name": "stderr",
     "output_type": "stream",
     "text": [
      "INFO:sqlalchemy.engine.Engine:ROLLBACK\n"
     ]
    }
   ],
   "source": [
    "options = [\n",
    "    \"V0230/23\",\n",
    "    # \"A2072/23\",\n",
    "    # \"A2068/23\",\n",
    "    # \"A1949/23\",\n",
    "    # \"A1882/23\",\n",
    "    # \"A1834/23\",\n",
    "    # \"A1833/23\",\n",
    "    # \"A1748/23\",\n",
    "    # \"A1747/23\"\n",
    "]\n",
    "notam_messages = get_notam_messages(engine.get_engine(), options)"
   ],
   "metadata": {
    "collapsed": false,
    "ExecuteTime": {
     "end_time": "2023-05-18T08:46:07.354810Z",
     "start_time": "2023-05-18T08:46:04.948024Z"
    }
   }
  },
  {
   "cell_type": "code",
   "execution_count": 12,
   "outputs": [
    {
     "name": "stdout",
     "output_type": "stream",
     "text": [
      "|NOTAM|Explained|Tag|\n",
      "|-----|---------|---|\n",
      "|**V0230/23**|[US DOD PROCEDURAL NOTAM] INSTRUMENT APPROACH PROCEDURE AMENDMENT RNP RWY 24 INCREASE LAND MINIMA. RAISE LNAV/VNAV DA CAT D TO 1617/1700M 404 (500-1700M). CHG NO-LIGHT NOTE TO READ: WHEN ALS INOP, INCR CAT ABC RVR/VIS TO 1700M; CAT D RVR/VIS TO 1900M.|A1 - Approach not available|\n"
     ]
    }
   ],
   "source": [
    "notam_table = notam_llm_chat.chat_to_get_notam_about(notam_tags, notam_messages)\n",
    "print(notam_table)"
   ],
   "metadata": {
    "collapsed": false,
    "ExecuteTime": {
     "end_time": "2023-05-18T08:48:36.468772Z",
     "start_time": "2023-05-18T08:48:19.599840Z"
    }
   }
  },
  {
   "cell_type": "code",
   "execution_count": null,
   "outputs": [],
   "source": [],
   "metadata": {
    "collapsed": false
   }
  }
 ],
 "metadata": {
  "kernelspec": {
   "display_name": "Python 3",
   "language": "python",
   "name": "python3"
  },
  "language_info": {
   "codemirror_mode": {
    "name": "ipython",
    "version": 2
   },
   "file_extension": ".py",
   "mimetype": "text/x-python",
   "name": "python",
   "nbconvert_exporter": "python",
   "pygments_lexer": "ipython2",
   "version": "2.7.6"
  }
 },
 "nbformat": 4,
 "nbformat_minor": 0
}
